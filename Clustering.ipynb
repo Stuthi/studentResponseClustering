{
 "cells": [
  {
   "cell_type": "code",
   "execution_count": 1,
   "metadata": {
    "collapsed": true
   },
   "outputs": [],
   "source": [
    "import pandas as pd\n",
    "import numpy as np\n",
    "import matplotlib.pyplot as plt\n",
    "%matplotlib inline"
   ]
  },
  {
   "cell_type": "code",
   "execution_count": null,
   "metadata": {
    "collapsed": true
   },
   "outputs": [],
   "source": []
  },
  {
   "cell_type": "code",
   "execution_count": 2,
   "metadata": {},
   "outputs": [],
   "source": [
    "df = pd.read_csv(\"../../data/turkiye-student-evaluation_generic.csv\")"
   ]
  },
  {
   "cell_type": "code",
   "execution_count": 3,
   "metadata": {},
   "outputs": [
    {
     "data": {
      "text/html": [
       "<div>\n",
       "<style>\n",
       "    .dataframe thead tr:only-child th {\n",
       "        text-align: right;\n",
       "    }\n",
       "\n",
       "    .dataframe thead th {\n",
       "        text-align: left;\n",
       "    }\n",
       "\n",
       "    .dataframe tbody tr th {\n",
       "        vertical-align: top;\n",
       "    }\n",
       "</style>\n",
       "<table border=\"1\" class=\"dataframe\">\n",
       "  <thead>\n",
       "    <tr style=\"text-align: right;\">\n",
       "      <th></th>\n",
       "      <th>instr</th>\n",
       "      <th>class</th>\n",
       "      <th>nb.repeat</th>\n",
       "      <th>attendance</th>\n",
       "      <th>difficulty</th>\n",
       "      <th>Q1</th>\n",
       "      <th>Q2</th>\n",
       "      <th>Q3</th>\n",
       "      <th>Q4</th>\n",
       "      <th>Q5</th>\n",
       "      <th>...</th>\n",
       "      <th>Q19</th>\n",
       "      <th>Q20</th>\n",
       "      <th>Q21</th>\n",
       "      <th>Q22</th>\n",
       "      <th>Q23</th>\n",
       "      <th>Q24</th>\n",
       "      <th>Q25</th>\n",
       "      <th>Q26</th>\n",
       "      <th>Q27</th>\n",
       "      <th>Q28</th>\n",
       "    </tr>\n",
       "  </thead>\n",
       "  <tbody>\n",
       "    <tr>\n",
       "      <th>0</th>\n",
       "      <td>1</td>\n",
       "      <td>2</td>\n",
       "      <td>1</td>\n",
       "      <td>0</td>\n",
       "      <td>4</td>\n",
       "      <td>3</td>\n",
       "      <td>3</td>\n",
       "      <td>3</td>\n",
       "      <td>3</td>\n",
       "      <td>3</td>\n",
       "      <td>...</td>\n",
       "      <td>3</td>\n",
       "      <td>3</td>\n",
       "      <td>3</td>\n",
       "      <td>3</td>\n",
       "      <td>3</td>\n",
       "      <td>3</td>\n",
       "      <td>3</td>\n",
       "      <td>3</td>\n",
       "      <td>3</td>\n",
       "      <td>3</td>\n",
       "    </tr>\n",
       "    <tr>\n",
       "      <th>1</th>\n",
       "      <td>1</td>\n",
       "      <td>2</td>\n",
       "      <td>1</td>\n",
       "      <td>1</td>\n",
       "      <td>3</td>\n",
       "      <td>3</td>\n",
       "      <td>3</td>\n",
       "      <td>3</td>\n",
       "      <td>3</td>\n",
       "      <td>3</td>\n",
       "      <td>...</td>\n",
       "      <td>3</td>\n",
       "      <td>3</td>\n",
       "      <td>3</td>\n",
       "      <td>3</td>\n",
       "      <td>3</td>\n",
       "      <td>3</td>\n",
       "      <td>3</td>\n",
       "      <td>3</td>\n",
       "      <td>3</td>\n",
       "      <td>3</td>\n",
       "    </tr>\n",
       "    <tr>\n",
       "      <th>2</th>\n",
       "      <td>1</td>\n",
       "      <td>2</td>\n",
       "      <td>1</td>\n",
       "      <td>2</td>\n",
       "      <td>4</td>\n",
       "      <td>5</td>\n",
       "      <td>5</td>\n",
       "      <td>5</td>\n",
       "      <td>5</td>\n",
       "      <td>5</td>\n",
       "      <td>...</td>\n",
       "      <td>5</td>\n",
       "      <td>5</td>\n",
       "      <td>5</td>\n",
       "      <td>5</td>\n",
       "      <td>5</td>\n",
       "      <td>5</td>\n",
       "      <td>5</td>\n",
       "      <td>5</td>\n",
       "      <td>5</td>\n",
       "      <td>5</td>\n",
       "    </tr>\n",
       "    <tr>\n",
       "      <th>3</th>\n",
       "      <td>1</td>\n",
       "      <td>2</td>\n",
       "      <td>1</td>\n",
       "      <td>1</td>\n",
       "      <td>3</td>\n",
       "      <td>3</td>\n",
       "      <td>3</td>\n",
       "      <td>3</td>\n",
       "      <td>3</td>\n",
       "      <td>3</td>\n",
       "      <td>...</td>\n",
       "      <td>3</td>\n",
       "      <td>3</td>\n",
       "      <td>3</td>\n",
       "      <td>3</td>\n",
       "      <td>3</td>\n",
       "      <td>3</td>\n",
       "      <td>3</td>\n",
       "      <td>3</td>\n",
       "      <td>3</td>\n",
       "      <td>3</td>\n",
       "    </tr>\n",
       "    <tr>\n",
       "      <th>4</th>\n",
       "      <td>1</td>\n",
       "      <td>2</td>\n",
       "      <td>1</td>\n",
       "      <td>0</td>\n",
       "      <td>1</td>\n",
       "      <td>1</td>\n",
       "      <td>1</td>\n",
       "      <td>1</td>\n",
       "      <td>1</td>\n",
       "      <td>1</td>\n",
       "      <td>...</td>\n",
       "      <td>1</td>\n",
       "      <td>1</td>\n",
       "      <td>1</td>\n",
       "      <td>1</td>\n",
       "      <td>1</td>\n",
       "      <td>1</td>\n",
       "      <td>1</td>\n",
       "      <td>1</td>\n",
       "      <td>1</td>\n",
       "      <td>1</td>\n",
       "    </tr>\n",
       "  </tbody>\n",
       "</table>\n",
       "<p>5 rows × 33 columns</p>\n",
       "</div>"
      ],
      "text/plain": [
       "   instr  class  nb.repeat  attendance  difficulty  Q1  Q2  Q3  Q4  Q5 ...   \\\n",
       "0      1      2          1           0           4   3   3   3   3   3 ...    \n",
       "1      1      2          1           1           3   3   3   3   3   3 ...    \n",
       "2      1      2          1           2           4   5   5   5   5   5 ...    \n",
       "3      1      2          1           1           3   3   3   3   3   3 ...    \n",
       "4      1      2          1           0           1   1   1   1   1   1 ...    \n",
       "\n",
       "   Q19  Q20  Q21  Q22  Q23  Q24  Q25  Q26  Q27  Q28  \n",
       "0    3    3    3    3    3    3    3    3    3    3  \n",
       "1    3    3    3    3    3    3    3    3    3    3  \n",
       "2    5    5    5    5    5    5    5    5    5    5  \n",
       "3    3    3    3    3    3    3    3    3    3    3  \n",
       "4    1    1    1    1    1    1    1    1    1    1  \n",
       "\n",
       "[5 rows x 33 columns]"
      ]
     },
     "execution_count": 3,
     "metadata": {},
     "output_type": "execute_result"
    }
   ],
   "source": [
    "df.head()"
   ]
  },
  {
   "cell_type": "code",
   "execution_count": 4,
   "metadata": {},
   "outputs": [
    {
     "data": {
      "text/html": [
       "<div>\n",
       "<style>\n",
       "    .dataframe thead tr:only-child th {\n",
       "        text-align: right;\n",
       "    }\n",
       "\n",
       "    .dataframe thead th {\n",
       "        text-align: left;\n",
       "    }\n",
       "\n",
       "    .dataframe tbody tr th {\n",
       "        vertical-align: top;\n",
       "    }\n",
       "</style>\n",
       "<table border=\"1\" class=\"dataframe\">\n",
       "  <thead>\n",
       "    <tr style=\"text-align: right;\">\n",
       "      <th></th>\n",
       "      <th>instr</th>\n",
       "      <th>class</th>\n",
       "      <th>nb.repeat</th>\n",
       "      <th>attendance</th>\n",
       "      <th>difficulty</th>\n",
       "      <th>Q1</th>\n",
       "      <th>Q2</th>\n",
       "      <th>Q3</th>\n",
       "      <th>Q4</th>\n",
       "      <th>Q5</th>\n",
       "      <th>...</th>\n",
       "      <th>Q19</th>\n",
       "      <th>Q20</th>\n",
       "      <th>Q21</th>\n",
       "      <th>Q22</th>\n",
       "      <th>Q23</th>\n",
       "      <th>Q24</th>\n",
       "      <th>Q25</th>\n",
       "      <th>Q26</th>\n",
       "      <th>Q27</th>\n",
       "      <th>Q28</th>\n",
       "    </tr>\n",
       "  </thead>\n",
       "  <tbody>\n",
       "    <tr>\n",
       "      <th>count</th>\n",
       "      <td>5820.000000</td>\n",
       "      <td>5820.000000</td>\n",
       "      <td>5820.000000</td>\n",
       "      <td>5820.000000</td>\n",
       "      <td>5820.000000</td>\n",
       "      <td>5820.000000</td>\n",
       "      <td>5820.000000</td>\n",
       "      <td>5820.000000</td>\n",
       "      <td>5820.000000</td>\n",
       "      <td>5820.000000</td>\n",
       "      <td>...</td>\n",
       "      <td>5820.000000</td>\n",
       "      <td>5820.000000</td>\n",
       "      <td>5820.000000</td>\n",
       "      <td>5820.000000</td>\n",
       "      <td>5820.00000</td>\n",
       "      <td>5820.000000</td>\n",
       "      <td>5820.000000</td>\n",
       "      <td>5820.000000</td>\n",
       "      <td>5820.000000</td>\n",
       "      <td>5820.000000</td>\n",
       "    </tr>\n",
       "    <tr>\n",
       "      <th>mean</th>\n",
       "      <td>2.485567</td>\n",
       "      <td>7.276289</td>\n",
       "      <td>1.214089</td>\n",
       "      <td>1.675601</td>\n",
       "      <td>2.783505</td>\n",
       "      <td>2.929897</td>\n",
       "      <td>3.073883</td>\n",
       "      <td>3.178694</td>\n",
       "      <td>3.082474</td>\n",
       "      <td>3.105842</td>\n",
       "      <td>...</td>\n",
       "      <td>3.261684</td>\n",
       "      <td>3.285395</td>\n",
       "      <td>3.307388</td>\n",
       "      <td>3.317526</td>\n",
       "      <td>3.20189</td>\n",
       "      <td>3.166838</td>\n",
       "      <td>3.312543</td>\n",
       "      <td>3.222165</td>\n",
       "      <td>3.154811</td>\n",
       "      <td>3.308076</td>\n",
       "    </tr>\n",
       "    <tr>\n",
       "      <th>std</th>\n",
       "      <td>0.718473</td>\n",
       "      <td>3.688175</td>\n",
       "      <td>0.532376</td>\n",
       "      <td>1.474975</td>\n",
       "      <td>1.348987</td>\n",
       "      <td>1.341077</td>\n",
       "      <td>1.285251</td>\n",
       "      <td>1.253567</td>\n",
       "      <td>1.284594</td>\n",
       "      <td>1.278989</td>\n",
       "      <td>...</td>\n",
       "      <td>1.268442</td>\n",
       "      <td>1.276848</td>\n",
       "      <td>1.269974</td>\n",
       "      <td>1.268358</td>\n",
       "      <td>1.27259</td>\n",
       "      <td>1.275909</td>\n",
       "      <td>1.257286</td>\n",
       "      <td>1.270695</td>\n",
       "      <td>1.291872</td>\n",
       "      <td>1.278709</td>\n",
       "    </tr>\n",
       "    <tr>\n",
       "      <th>min</th>\n",
       "      <td>1.000000</td>\n",
       "      <td>1.000000</td>\n",
       "      <td>1.000000</td>\n",
       "      <td>0.000000</td>\n",
       "      <td>1.000000</td>\n",
       "      <td>1.000000</td>\n",
       "      <td>1.000000</td>\n",
       "      <td>1.000000</td>\n",
       "      <td>1.000000</td>\n",
       "      <td>1.000000</td>\n",
       "      <td>...</td>\n",
       "      <td>1.000000</td>\n",
       "      <td>1.000000</td>\n",
       "      <td>1.000000</td>\n",
       "      <td>1.000000</td>\n",
       "      <td>1.00000</td>\n",
       "      <td>1.000000</td>\n",
       "      <td>1.000000</td>\n",
       "      <td>1.000000</td>\n",
       "      <td>1.000000</td>\n",
       "      <td>1.000000</td>\n",
       "    </tr>\n",
       "    <tr>\n",
       "      <th>25%</th>\n",
       "      <td>2.000000</td>\n",
       "      <td>4.000000</td>\n",
       "      <td>1.000000</td>\n",
       "      <td>0.000000</td>\n",
       "      <td>1.000000</td>\n",
       "      <td>2.000000</td>\n",
       "      <td>2.000000</td>\n",
       "      <td>2.000000</td>\n",
       "      <td>2.000000</td>\n",
       "      <td>2.000000</td>\n",
       "      <td>...</td>\n",
       "      <td>3.000000</td>\n",
       "      <td>3.000000</td>\n",
       "      <td>3.000000</td>\n",
       "      <td>3.000000</td>\n",
       "      <td>2.00000</td>\n",
       "      <td>2.000000</td>\n",
       "      <td>3.000000</td>\n",
       "      <td>2.000000</td>\n",
       "      <td>2.000000</td>\n",
       "      <td>3.000000</td>\n",
       "    </tr>\n",
       "    <tr>\n",
       "      <th>50%</th>\n",
       "      <td>3.000000</td>\n",
       "      <td>7.000000</td>\n",
       "      <td>1.000000</td>\n",
       "      <td>1.000000</td>\n",
       "      <td>3.000000</td>\n",
       "      <td>3.000000</td>\n",
       "      <td>3.000000</td>\n",
       "      <td>3.000000</td>\n",
       "      <td>3.000000</td>\n",
       "      <td>3.000000</td>\n",
       "      <td>...</td>\n",
       "      <td>3.000000</td>\n",
       "      <td>3.000000</td>\n",
       "      <td>3.000000</td>\n",
       "      <td>3.000000</td>\n",
       "      <td>3.00000</td>\n",
       "      <td>3.000000</td>\n",
       "      <td>3.000000</td>\n",
       "      <td>3.000000</td>\n",
       "      <td>3.000000</td>\n",
       "      <td>3.000000</td>\n",
       "    </tr>\n",
       "    <tr>\n",
       "      <th>75%</th>\n",
       "      <td>3.000000</td>\n",
       "      <td>10.000000</td>\n",
       "      <td>1.000000</td>\n",
       "      <td>3.000000</td>\n",
       "      <td>4.000000</td>\n",
       "      <td>4.000000</td>\n",
       "      <td>4.000000</td>\n",
       "      <td>4.000000</td>\n",
       "      <td>4.000000</td>\n",
       "      <td>4.000000</td>\n",
       "      <td>...</td>\n",
       "      <td>4.000000</td>\n",
       "      <td>4.000000</td>\n",
       "      <td>4.000000</td>\n",
       "      <td>4.000000</td>\n",
       "      <td>4.00000</td>\n",
       "      <td>4.000000</td>\n",
       "      <td>4.000000</td>\n",
       "      <td>4.000000</td>\n",
       "      <td>4.000000</td>\n",
       "      <td>4.000000</td>\n",
       "    </tr>\n",
       "    <tr>\n",
       "      <th>max</th>\n",
       "      <td>3.000000</td>\n",
       "      <td>13.000000</td>\n",
       "      <td>3.000000</td>\n",
       "      <td>4.000000</td>\n",
       "      <td>5.000000</td>\n",
       "      <td>5.000000</td>\n",
       "      <td>5.000000</td>\n",
       "      <td>5.000000</td>\n",
       "      <td>5.000000</td>\n",
       "      <td>5.000000</td>\n",
       "      <td>...</td>\n",
       "      <td>5.000000</td>\n",
       "      <td>5.000000</td>\n",
       "      <td>5.000000</td>\n",
       "      <td>5.000000</td>\n",
       "      <td>5.00000</td>\n",
       "      <td>5.000000</td>\n",
       "      <td>5.000000</td>\n",
       "      <td>5.000000</td>\n",
       "      <td>5.000000</td>\n",
       "      <td>5.000000</td>\n",
       "    </tr>\n",
       "  </tbody>\n",
       "</table>\n",
       "<p>8 rows × 33 columns</p>\n",
       "</div>"
      ],
      "text/plain": [
       "             instr        class    nb.repeat   attendance   difficulty  \\\n",
       "count  5820.000000  5820.000000  5820.000000  5820.000000  5820.000000   \n",
       "mean      2.485567     7.276289     1.214089     1.675601     2.783505   \n",
       "std       0.718473     3.688175     0.532376     1.474975     1.348987   \n",
       "min       1.000000     1.000000     1.000000     0.000000     1.000000   \n",
       "25%       2.000000     4.000000     1.000000     0.000000     1.000000   \n",
       "50%       3.000000     7.000000     1.000000     1.000000     3.000000   \n",
       "75%       3.000000    10.000000     1.000000     3.000000     4.000000   \n",
       "max       3.000000    13.000000     3.000000     4.000000     5.000000   \n",
       "\n",
       "                Q1           Q2           Q3           Q4           Q5  \\\n",
       "count  5820.000000  5820.000000  5820.000000  5820.000000  5820.000000   \n",
       "mean      2.929897     3.073883     3.178694     3.082474     3.105842   \n",
       "std       1.341077     1.285251     1.253567     1.284594     1.278989   \n",
       "min       1.000000     1.000000     1.000000     1.000000     1.000000   \n",
       "25%       2.000000     2.000000     2.000000     2.000000     2.000000   \n",
       "50%       3.000000     3.000000     3.000000     3.000000     3.000000   \n",
       "75%       4.000000     4.000000     4.000000     4.000000     4.000000   \n",
       "max       5.000000     5.000000     5.000000     5.000000     5.000000   \n",
       "\n",
       "          ...               Q19          Q20          Q21          Q22  \\\n",
       "count     ...       5820.000000  5820.000000  5820.000000  5820.000000   \n",
       "mean      ...          3.261684     3.285395     3.307388     3.317526   \n",
       "std       ...          1.268442     1.276848     1.269974     1.268358   \n",
       "min       ...          1.000000     1.000000     1.000000     1.000000   \n",
       "25%       ...          3.000000     3.000000     3.000000     3.000000   \n",
       "50%       ...          3.000000     3.000000     3.000000     3.000000   \n",
       "75%       ...          4.000000     4.000000     4.000000     4.000000   \n",
       "max       ...          5.000000     5.000000     5.000000     5.000000   \n",
       "\n",
       "              Q23          Q24          Q25          Q26          Q27  \\\n",
       "count  5820.00000  5820.000000  5820.000000  5820.000000  5820.000000   \n",
       "mean      3.20189     3.166838     3.312543     3.222165     3.154811   \n",
       "std       1.27259     1.275909     1.257286     1.270695     1.291872   \n",
       "min       1.00000     1.000000     1.000000     1.000000     1.000000   \n",
       "25%       2.00000     2.000000     3.000000     2.000000     2.000000   \n",
       "50%       3.00000     3.000000     3.000000     3.000000     3.000000   \n",
       "75%       4.00000     4.000000     4.000000     4.000000     4.000000   \n",
       "max       5.00000     5.000000     5.000000     5.000000     5.000000   \n",
       "\n",
       "               Q28  \n",
       "count  5820.000000  \n",
       "mean      3.308076  \n",
       "std       1.278709  \n",
       "min       1.000000  \n",
       "25%       3.000000  \n",
       "50%       3.000000  \n",
       "75%       4.000000  \n",
       "max       5.000000  \n",
       "\n",
       "[8 rows x 33 columns]"
      ]
     },
     "execution_count": 4,
     "metadata": {},
     "output_type": "execute_result"
    }
   ],
   "source": [
    "df.describe()"
   ]
  },
  {
   "cell_type": "code",
   "execution_count": 5,
   "metadata": {
    "collapsed": true
   },
   "outputs": [],
   "source": [
    "import seaborn as sns"
   ]
  },
  {
   "cell_type": "code",
   "execution_count": 6,
   "metadata": {
    "collapsed": true
   },
   "outputs": [],
   "source": [
    "#Which courses are taught by which instructors"
   ]
  },
  {
   "cell_type": "code",
   "execution_count": 7,
   "metadata": {},
   "outputs": [
    {
     "data": {
      "text/plain": [
       "<seaborn.axisgrid.JointGrid at 0x7f9149a789b0>"
      ]
     },
     "execution_count": 7,
     "metadata": {},
     "output_type": "execute_result"
    },
    {
     "data": {
      "image/png": "[encoded data removed]",
      "text/plain": [
       "<matplotlib.figure.Figure at 0x7f9149a78940>"
      ]
     },
     "metadata": {},
     "output_type": "display_data"
    }
   ],
   "source": [
    "sns.jointplot('class','instr',data = df)"
   ]
  },
  {
   "cell_type": "code",
   "execution_count": 8,
   "metadata": {},
   "outputs": [
    {
     "data": {
      "text/plain": [
       "<matplotlib.axes._subplots.AxesSubplot at 0x7f91495db1d0>"
      ]
     },
     "execution_count": 8,
     "metadata": {},
     "output_type": "execute_result"
    },
    {
     "data": {
      "image/png": "[encoded data removed]",
      "text/plain": [
       "<matplotlib.figure.Figure at 0x7f9145fbc9b0>"
      ]
     },
     "metadata": {},
     "output_type": "display_data"
    }
   ],
   "source": [
    "#Distribution of the difficulty rating\n",
    "sns.distplot(df['difficulty'])"
   ]
  },
  {
   "cell_type": "code",
   "execution_count": 9,
   "metadata": {},
   "outputs": [
    {
     "data": {
      "text/plain": [
       "<matplotlib.axes._subplots.AxesSubplot at 0x7f9145fa9f98>"
      ]
     },
     "execution_count": 9,
     "metadata": {},
     "output_type": "execute_result"
    },
    {
     "data": {
      "image/png": "[encoded data removed]",
      "text/plain": [
       "<matplotlib.figure.Figure at 0x7f9145fff9e8>"
      ]
     },
     "metadata": {},
     "output_type": "display_data"
    }
   ],
   "source": [
    "sns.distplot(df['class'])\n",
    "#Most popular course"
   ]
  },
  {
   "cell_type": "code",
   "execution_count": 10,
   "metadata": {},
   "outputs": [
    {
     "data": {
      "text/plain": [
       "3     904\n",
       "13    841\n",
       "5     656\n",
       "9     571\n",
       "6     558\n",
       "8     500\n",
       "11    484\n",
       "10    448\n",
       "1     303\n",
       "7     187\n",
       "4     187\n",
       "2     140\n",
       "12     41\n",
       "Name: class, dtype: int64"
      ]
     },
     "execution_count": 10,
     "metadata": {},
     "output_type": "execute_result"
    }
   ],
   "source": [
    "df['class'].value_counts()\n",
    "#Verifying above chart"
   ]
  },
  {
   "cell_type": "code",
   "execution_count": 11,
   "metadata": {},
   "outputs": [
    {
     "data": {
      "text/plain": [
       "<matplotlib.axes._subplots.AxesSubplot at 0x7f9145f1eba8>"
      ]
     },
     "execution_count": 11,
     "metadata": {},
     "output_type": "execute_result"
    },
    {
     "data": {
      "image/png": "[encoded data removed]",
      "text/plain": [
       "<matplotlib.figure.Figure at 0x7f914605ac88>"
      ]
     },
     "metadata": {},
     "output_type": "display_data"
    }
   ],
   "source": [
    "sns.boxplot(x='class',y='difficulty',data=df)"
   ]
  },
  {
   "cell_type": "code",
   "execution_count": null,
   "metadata": {
    "collapsed": true
   },
   "outputs": [],
   "source": []
  },
  {
   "cell_type": "code",
   "execution_count": 12,
   "metadata": {},
   "outputs": [
    {
     "data": {
      "text/plain": [
       "(5820, 32)"
      ]
     },
     "execution_count": 12,
     "metadata": {},
     "output_type": "execute_result"
    }
   ],
   "source": [
    "unlabelled_df = df.drop('instr',axis=1)\n",
    "unlabelled_df.shape"
   ]
  },
  {
   "cell_type": "code",
   "execution_count": null,
   "metadata": {
    "collapsed": true
   },
   "outputs": [],
   "source": []
  },
  {
   "cell_type": "code",
   "execution_count": 13,
   "metadata": {},
   "outputs": [
    {
     "data": {
      "text/html": [
       "<div>\n",
       "<style>\n",
       "    .dataframe thead tr:only-child th {\n",
       "        text-align: right;\n",
       "    }\n",
       "\n",
       "    .dataframe thead th {\n",
       "        text-align: left;\n",
       "    }\n",
       "\n",
       "    .dataframe tbody tr th {\n",
       "        vertical-align: top;\n",
       "    }\n",
       "</style>\n",
       "<table border=\"1\" class=\"dataframe\">\n",
       "  <thead>\n",
       "    <tr style=\"text-align: right;\">\n",
       "      <th></th>\n",
       "      <th>class</th>\n",
       "      <th>nb.repeat</th>\n",
       "      <th>attendance</th>\n",
       "      <th>difficulty</th>\n",
       "      <th>Q1</th>\n",
       "      <th>Q2</th>\n",
       "      <th>Q3</th>\n",
       "      <th>Q4</th>\n",
       "      <th>Q5</th>\n",
       "      <th>Q6</th>\n",
       "      <th>...</th>\n",
       "      <th>Q19</th>\n",
       "      <th>Q20</th>\n",
       "      <th>Q21</th>\n",
       "      <th>Q22</th>\n",
       "      <th>Q23</th>\n",
       "      <th>Q24</th>\n",
       "      <th>Q25</th>\n",
       "      <th>Q26</th>\n",
       "      <th>Q27</th>\n",
       "      <th>Q28</th>\n",
       "    </tr>\n",
       "  </thead>\n",
       "  <tbody>\n",
       "    <tr>\n",
       "      <th>0</th>\n",
       "      <td>2</td>\n",
       "      <td>1</td>\n",
       "      <td>0</td>\n",
       "      <td>4</td>\n",
       "      <td>3</td>\n",
       "      <td>3</td>\n",
       "      <td>3</td>\n",
       "      <td>3</td>\n",
       "      <td>3</td>\n",
       "      <td>3</td>\n",
       "      <td>...</td>\n",
       "      <td>3</td>\n",
       "      <td>3</td>\n",
       "      <td>3</td>\n",
       "      <td>3</td>\n",
       "      <td>3</td>\n",
       "      <td>3</td>\n",
       "      <td>3</td>\n",
       "      <td>3</td>\n",
       "      <td>3</td>\n",
       "      <td>3</td>\n",
       "    </tr>\n",
       "    <tr>\n",
       "      <th>1</th>\n",
       "      <td>2</td>\n",
       "      <td>1</td>\n",
       "      <td>1</td>\n",
       "      <td>3</td>\n",
       "      <td>3</td>\n",
       "      <td>3</td>\n",
       "      <td>3</td>\n",
       "      <td>3</td>\n",
       "      <td>3</td>\n",
       "      <td>3</td>\n",
       "      <td>...</td>\n",
       "      <td>3</td>\n",
       "      <td>3</td>\n",
       "      <td>3</td>\n",
       "      <td>3</td>\n",
       "      <td>3</td>\n",
       "      <td>3</td>\n",
       "      <td>3</td>\n",
       "      <td>3</td>\n",
       "      <td>3</td>\n",
       "      <td>3</td>\n",
       "    </tr>\n",
       "    <tr>\n",
       "      <th>2</th>\n",
       "      <td>2</td>\n",
       "      <td>1</td>\n",
       "      <td>2</td>\n",
       "      <td>4</td>\n",
       "      <td>5</td>\n",
       "      <td>5</td>\n",
       "      <td>5</td>\n",
       "      <td>5</td>\n",
       "      <td>5</td>\n",
       "      <td>5</td>\n",
       "      <td>...</td>\n",
       "      <td>5</td>\n",
       "      <td>5</td>\n",
       "      <td>5</td>\n",
       "      <td>5</td>\n",
       "      <td>5</td>\n",
       "      <td>5</td>\n",
       "      <td>5</td>\n",
       "      <td>5</td>\n",
       "      <td>5</td>\n",
       "      <td>5</td>\n",
       "    </tr>\n",
       "    <tr>\n",
       "      <th>3</th>\n",
       "      <td>2</td>\n",
       "      <td>1</td>\n",
       "      <td>1</td>\n",
       "      <td>3</td>\n",
       "      <td>3</td>\n",
       "      <td>3</td>\n",
       "      <td>3</td>\n",
       "      <td>3</td>\n",
       "      <td>3</td>\n",
       "      <td>3</td>\n",
       "      <td>...</td>\n",
       "      <td>3</td>\n",
       "      <td>3</td>\n",
       "      <td>3</td>\n",
       "      <td>3</td>\n",
       "      <td>3</td>\n",
       "      <td>3</td>\n",
       "      <td>3</td>\n",
       "      <td>3</td>\n",
       "      <td>3</td>\n",
       "      <td>3</td>\n",
       "    </tr>\n",
       "    <tr>\n",
       "      <th>4</th>\n",
       "      <td>2</td>\n",
       "      <td>1</td>\n",
       "      <td>0</td>\n",
       "      <td>1</td>\n",
       "      <td>1</td>\n",
       "      <td>1</td>\n",
       "      <td>1</td>\n",
       "      <td>1</td>\n",
       "      <td>1</td>\n",
       "      <td>1</td>\n",
       "      <td>...</td>\n",
       "      <td>1</td>\n",
       "      <td>1</td>\n",
       "      <td>1</td>\n",
       "      <td>1</td>\n",
       "      <td>1</td>\n",
       "      <td>1</td>\n",
       "      <td>1</td>\n",
       "      <td>1</td>\n",
       "      <td>1</td>\n",
       "      <td>1</td>\n",
       "    </tr>\n",
       "  </tbody>\n",
       "</table>\n",
       "<p>5 rows × 32 columns</p>\n",
       "</div>"
      ],
      "text/plain": [
       "   class  nb.repeat  attendance  difficulty  Q1  Q2  Q3  Q4  Q5  Q6 ...   Q19  \\\n",
       "0      2          1           0           4   3   3   3   3   3   3 ...     3   \n",
       "1      2          1           1           3   3   3   3   3   3   3 ...     3   \n",
       "2      2          1           2           4   5   5   5   5   5   5 ...     5   \n",
       "3      2          1           1           3   3   3   3   3   3   3 ...     3   \n",
       "4      2          1           0           1   1   1   1   1   1   1 ...     1   \n",
       "\n",
       "   Q20  Q21  Q22  Q23  Q24  Q25  Q26  Q27  Q28  \n",
       "0    3    3    3    3    3    3    3    3    3  \n",
       "1    3    3    3    3    3    3    3    3    3  \n",
       "2    5    5    5    5    5    5    5    5    5  \n",
       "3    3    3    3    3    3    3    3    3    3  \n",
       "4    1    1    1    1    1    1    1    1    1  \n",
       "\n",
       "[5 rows x 32 columns]"
      ]
     },
     "execution_count": 13,
     "metadata": {},
     "output_type": "execute_result"
    }
   ],
   "source": [
    "unlabelled_df.head()"
   ]
  },
  {
   "cell_type": "code",
   "execution_count": 14,
   "metadata": {
    "collapsed": true
   },
   "outputs": [],
   "source": [
    "from sklearn.preprocessing import StandardScaler"
   ]
  },
  {
   "cell_type": "code",
   "execution_count": 15,
   "metadata": {},
   "outputs": [
    {
     "data": {
      "text/plain": [
       "numpy.ndarray"
      ]
     },
     "execution_count": 15,
     "metadata": {},
     "output_type": "execute_result"
    }
   ],
   "source": [
    "s = StandardScaler()\n",
    "unlabelled_df = s.fit_transform(unlabelled_df)\n",
    "type(unlabelled_df)"
   ]
  },
  {
   "cell_type": "code",
   "execution_count": 16,
   "metadata": {},
   "outputs": [
    {
     "data": {
      "text/html": [
       "<div>\n",
       "<style>\n",
       "    .dataframe thead tr:only-child th {\n",
       "        text-align: right;\n",
       "    }\n",
       "\n",
       "    .dataframe thead th {\n",
       "        text-align: left;\n",
       "    }\n",
       "\n",
       "    .dataframe tbody tr th {\n",
       "        vertical-align: top;\n",
       "    }\n",
       "</style>\n",
       "<table border=\"1\" class=\"dataframe\">\n",
       "  <thead>\n",
       "    <tr style=\"text-align: right;\">\n",
       "      <th></th>\n",
       "      <th>0</th>\n",
       "      <th>1</th>\n",
       "      <th>2</th>\n",
       "      <th>3</th>\n",
       "      <th>4</th>\n",
       "      <th>5</th>\n",
       "      <th>6</th>\n",
       "      <th>7</th>\n",
       "      <th>8</th>\n",
       "      <th>9</th>\n",
       "      <th>...</th>\n",
       "      <th>22</th>\n",
       "      <th>23</th>\n",
       "      <th>24</th>\n",
       "      <th>25</th>\n",
       "      <th>26</th>\n",
       "      <th>27</th>\n",
       "      <th>28</th>\n",
       "      <th>29</th>\n",
       "      <th>30</th>\n",
       "      <th>31</th>\n",
       "    </tr>\n",
       "  </thead>\n",
       "  <tbody>\n",
       "    <tr>\n",
       "      <th>0</th>\n",
       "      <td>-1.430719</td>\n",
       "      <td>-0.402174</td>\n",
       "      <td>-1.136118</td>\n",
       "      <td>0.901862</td>\n",
       "      <td>0.052278</td>\n",
       "      <td>-0.05749</td>\n",
       "      <td>-0.142561</td>\n",
       "      <td>-0.064208</td>\n",
       "      <td>-0.082761</td>\n",
       "      <td>-0.083851</td>\n",
       "      <td>...</td>\n",
       "      <td>-0.206321</td>\n",
       "      <td>-0.223535</td>\n",
       "      <td>-0.242064</td>\n",
       "      <td>-0.250365</td>\n",
       "      <td>-0.158659</td>\n",
       "      <td>-0.130772</td>\n",
       "      <td>-0.248607</td>\n",
       "      <td>-0.174852</td>\n",
       "      <td>-0.119845</td>\n",
       "      <td>-0.240948</td>\n",
       "    </tr>\n",
       "    <tr>\n",
       "      <th>1</th>\n",
       "      <td>-1.430719</td>\n",
       "      <td>-0.402174</td>\n",
       "      <td>-0.458082</td>\n",
       "      <td>0.160501</td>\n",
       "      <td>0.052278</td>\n",
       "      <td>-0.05749</td>\n",
       "      <td>-0.142561</td>\n",
       "      <td>-0.064208</td>\n",
       "      <td>-0.082761</td>\n",
       "      <td>-0.083851</td>\n",
       "      <td>...</td>\n",
       "      <td>-0.206321</td>\n",
       "      <td>-0.223535</td>\n",
       "      <td>-0.242064</td>\n",
       "      <td>-0.250365</td>\n",
       "      <td>-0.158659</td>\n",
       "      <td>-0.130772</td>\n",
       "      <td>-0.248607</td>\n",
       "      <td>-0.174852</td>\n",
       "      <td>-0.119845</td>\n",
       "      <td>-0.240948</td>\n",
       "    </tr>\n",
       "    <tr>\n",
       "      <th>2</th>\n",
       "      <td>-1.430719</td>\n",
       "      <td>-0.402174</td>\n",
       "      <td>0.219954</td>\n",
       "      <td>0.901862</td>\n",
       "      <td>1.543745</td>\n",
       "      <td>1.49876</td>\n",
       "      <td>1.453023</td>\n",
       "      <td>1.492837</td>\n",
       "      <td>1.481107</td>\n",
       "      <td>1.477798</td>\n",
       "      <td>...</td>\n",
       "      <td>1.370552</td>\n",
       "      <td>1.342957</td>\n",
       "      <td>1.332907</td>\n",
       "      <td>1.326612</td>\n",
       "      <td>1.413075</td>\n",
       "      <td>1.436873</td>\n",
       "      <td>1.342258</td>\n",
       "      <td>1.399225</td>\n",
       "      <td>1.428430</td>\n",
       "      <td>1.323265</td>\n",
       "    </tr>\n",
       "    <tr>\n",
       "      <th>3</th>\n",
       "      <td>-1.430719</td>\n",
       "      <td>-0.402174</td>\n",
       "      <td>-0.458082</td>\n",
       "      <td>0.160501</td>\n",
       "      <td>0.052278</td>\n",
       "      <td>-0.05749</td>\n",
       "      <td>-0.142561</td>\n",
       "      <td>-0.064208</td>\n",
       "      <td>-0.082761</td>\n",
       "      <td>-0.083851</td>\n",
       "      <td>...</td>\n",
       "      <td>-0.206321</td>\n",
       "      <td>-0.223535</td>\n",
       "      <td>-0.242064</td>\n",
       "      <td>-0.250365</td>\n",
       "      <td>-0.158659</td>\n",
       "      <td>-0.130772</td>\n",
       "      <td>-0.248607</td>\n",
       "      <td>-0.174852</td>\n",
       "      <td>-0.119845</td>\n",
       "      <td>-0.240948</td>\n",
       "    </tr>\n",
       "    <tr>\n",
       "      <th>4</th>\n",
       "      <td>-1.430719</td>\n",
       "      <td>-0.402174</td>\n",
       "      <td>-1.136118</td>\n",
       "      <td>-1.322221</td>\n",
       "      <td>-1.439189</td>\n",
       "      <td>-1.61374</td>\n",
       "      <td>-1.738145</td>\n",
       "      <td>-1.621254</td>\n",
       "      <td>-1.646630</td>\n",
       "      <td>-1.645501</td>\n",
       "      <td>...</td>\n",
       "      <td>-1.783194</td>\n",
       "      <td>-1.790026</td>\n",
       "      <td>-1.817034</td>\n",
       "      <td>-1.827343</td>\n",
       "      <td>-1.730392</td>\n",
       "      <td>-1.698417</td>\n",
       "      <td>-1.839472</td>\n",
       "      <td>-1.748929</td>\n",
       "      <td>-1.668120</td>\n",
       "      <td>-1.805160</td>\n",
       "    </tr>\n",
       "  </tbody>\n",
       "</table>\n",
       "<p>5 rows × 32 columns</p>\n",
       "</div>"
      ],
      "text/plain": [
       "         0         1         2         3         4        5         6   \\\n",
       "0 -1.430719 -0.402174 -1.136118  0.901862  0.052278 -0.05749 -0.142561   \n",
       "1 -1.430719 -0.402174 -0.458082  0.160501  0.052278 -0.05749 -0.142561   \n",
       "2 -1.430719 -0.402174  0.219954  0.901862  1.543745  1.49876  1.453023   \n",
       "3 -1.430719 -0.402174 -0.458082  0.160501  0.052278 -0.05749 -0.142561   \n",
       "4 -1.430719 -0.402174 -1.136118 -1.322221 -1.439189 -1.61374 -1.738145   \n",
       "\n",
       "         7         8         9     ...           22        23        24  \\\n",
       "0 -0.064208 -0.082761 -0.083851    ...    -0.206321 -0.223535 -0.242064   \n",
       "1 -0.064208 -0.082761 -0.083851    ...    -0.206321 -0.223535 -0.242064   \n",
       "2  1.492837  1.481107  1.477798    ...     1.370552  1.342957  1.332907   \n",
       "3 -0.064208 -0.082761 -0.083851    ...    -0.206321 -0.223535 -0.242064   \n",
       "4 -1.621254 -1.646630 -1.645501    ...    -1.783194 -1.790026 -1.817034   \n",
       "\n",
       "         25        26        27        28        29        30        31  \n",
       "0 -0.250365 -0.158659 -0.130772 -0.248607 -0.174852 -0.119845 -0.240948  \n",
       "1 -0.250365 -0.158659 -0.130772 -0.248607 -0.174852 -0.119845 -0.240948  \n",
       "2  1.326612  1.413075  1.436873  1.342258  1.399225  1.428430  1.323265  \n",
       "3 -0.250365 -0.158659 -0.130772 -0.248607 -0.174852 -0.119845 -0.240948  \n",
       "4 -1.827343 -1.730392 -1.698417 -1.839472 -1.748929 -1.668120 -1.805160  \n",
       "\n",
       "[5 rows x 32 columns]"
      ]
     },
     "execution_count": 16,
     "metadata": {},
     "output_type": "execute_result"
    }
   ],
   "source": [
    "unlabelled_df = pd.DataFrame(unlabelled_df)\n",
    "unlabelled_df.head()"
   ]
  },
  {
   "cell_type": "code",
   "execution_count": 17,
   "metadata": {
    "collapsed": true
   },
   "outputs": [],
   "source": [
    "from sklearn.cluster import KMeans"
   ]
  },
  {
   "cell_type": "code",
   "execution_count": 18,
   "metadata": {
    "collapsed": true
   },
   "outputs": [],
   "source": [
    "wcss = []"
   ]
  },
  {
   "cell_type": "code",
   "execution_count": 19,
   "metadata": {
    "collapsed": true
   },
   "outputs": [],
   "source": [
    "for i in range (1,10):\n",
    "    km = KMeans(n_clusters=i,init='k-means++',random_state = 42)\n",
    "    km.fit(unlabelled_df)\n",
    "    wcss.append(km.inertia_)"
   ]
  },
  {
   "cell_type": "code",
   "execution_count": 20,
   "metadata": {},
   "outputs": [
    {
     "data": {
      "text/plain": [
       "[<matplotlib.lines.Line2D at 0x7f914025ce10>]"
      ]
     },
     "execution_count": 20,
     "metadata": {},
     "output_type": "execute_result"
    },
    {
     "data": {
      "image/png": "[encoded data removed]",
      "text/plain": [
       "<matplotlib.figure.Figure at 0x7f9140b2a208>"
      ]
     },
     "metadata": {},
     "output_type": "display_data"
    }
   ],
   "source": [
    "#elbow method\n",
    "plt.plot(range(1,10),wcss)"
   ]
  },
  {
   "cell_type": "code",
   "execution_count": 21,
   "metadata": {
    "collapsed": true
   },
   "outputs": [],
   "source": [
    "km_opt = KMeans(n_clusters=3,init='k-means++',random_state = 42)"
   ]
  },
  {
   "cell_type": "code",
   "execution_count": 22,
   "metadata": {},
   "outputs": [
    {
     "data": {
      "text/plain": [
       "KMeans(algorithm='auto', copy_x=True, init='k-means++', max_iter=300,\n",
       "    n_clusters=3, n_init=10, n_jobs=1, precompute_distances='auto',\n",
       "    random_state=42, tol=0.0001, verbose=0)"
      ]
     },
     "execution_count": 22,
     "metadata": {},
     "output_type": "execute_result"
    }
   ],
   "source": [
    "km_opt.fit(unlabelled_df)"
   ]
  },
  {
   "cell_type": "code",
   "execution_count": 23,
   "metadata": {},
   "outputs": [
    {
     "data": {
      "text/plain": [
       "68250.383767175852"
      ]
     },
     "execution_count": 23,
     "metadata": {},
     "output_type": "execute_result"
    }
   ],
   "source": [
    "km_opt.inertia_"
   ]
  },
  {
   "cell_type": "code",
   "execution_count": 26,
   "metadata": {},
   "outputs": [],
   "source": [
    "centers = km_opt.cluster_centers_"
   ]
  },
  {
   "cell_type": "code",
   "execution_count": 27,
   "metadata": {},
   "outputs": [
    {
     "data": {
      "text/plain": [
       "(3, 32)"
      ]
     },
     "execution_count": 27,
     "metadata": {},
     "output_type": "execute_result"
    }
   ],
   "source": [
    "centers.shape"
   ]
  },
  {
   "cell_type": "code",
   "execution_count": 28,
   "metadata": {},
   "outputs": [
    {
     "data": {
      "text/plain": [
       "68250.383767175852"
      ]
     },
     "execution_count": 28,
     "metadata": {},
     "output_type": "execute_result"
    }
   ],
   "source": [
    "km_opt.inertia_"
   ]
  },
  {
   "cell_type": "code",
   "execution_count": 29,
   "metadata": {},
   "outputs": [
    {
     "data": {
      "text/plain": [
       "(5820,)"
      ]
     },
     "execution_count": 29,
     "metadata": {},
     "output_type": "execute_result"
    }
   ],
   "source": [
    "cluster_labels = km_opt.predict(unlabelled_df)\n",
    "cluster_labels.shape"
   ]
  },
  {
   "cell_type": "code",
   "execution_count": 30,
   "metadata": {
    "collapsed": true
   },
   "outputs": [],
   "source": [
    "resdf = pd.DataFrame(columns = ['Instructor','ClusterLabel'])"
   ]
  },
  {
   "cell_type": "code",
   "execution_count": 31,
   "metadata": {
    "collapsed": true
   },
   "outputs": [],
   "source": [
    "resdf['Instructor'] = df['instr']"
   ]
  },
  {
   "cell_type": "code",
   "execution_count": 32,
   "metadata": {
    "collapsed": true
   },
   "outputs": [],
   "source": [
    "resdf['ClusterLabel'] = cluster_labels"
   ]
  },
  {
   "cell_type": "code",
   "execution_count": 33,
   "metadata": {},
   "outputs": [
    {
     "data": {
      "text/html": [
       "<div>\n",
       "<style>\n",
       "    .dataframe thead tr:only-child th {\n",
       "        text-align: right;\n",
       "    }\n",
       "\n",
       "    .dataframe thead th {\n",
       "        text-align: left;\n",
       "    }\n",
       "\n",
       "    .dataframe tbody tr th {\n",
       "        vertical-align: top;\n",
       "    }\n",
       "</style>\n",
       "<table border=\"1\" class=\"dataframe\">\n",
       "  <thead>\n",
       "    <tr style=\"text-align: right;\">\n",
       "      <th></th>\n",
       "      <th>Instructor</th>\n",
       "      <th>ClusterLabel</th>\n",
       "    </tr>\n",
       "  </thead>\n",
       "  <tbody>\n",
       "    <tr>\n",
       "      <th>0</th>\n",
       "      <td>1</td>\n",
       "      <td>2</td>\n",
       "    </tr>\n",
       "    <tr>\n",
       "      <th>1</th>\n",
       "      <td>1</td>\n",
       "      <td>2</td>\n",
       "    </tr>\n",
       "    <tr>\n",
       "      <th>2</th>\n",
       "      <td>1</td>\n",
       "      <td>1</td>\n",
       "    </tr>\n",
       "    <tr>\n",
       "      <th>3</th>\n",
       "      <td>1</td>\n",
       "      <td>2</td>\n",
       "    </tr>\n",
       "    <tr>\n",
       "      <th>4</th>\n",
       "      <td>1</td>\n",
       "      <td>0</td>\n",
       "    </tr>\n",
       "  </tbody>\n",
       "</table>\n",
       "</div>"
      ],
      "text/plain": [
       "   Instructor  ClusterLabel\n",
       "0           1             2\n",
       "1           1             2\n",
       "2           1             1\n",
       "3           1             2\n",
       "4           1             0"
      ]
     },
     "execution_count": 33,
     "metadata": {},
     "output_type": "execute_result"
    }
   ],
   "source": [
    "resdf.head()"
   ]
  },
  {
   "cell_type": "code",
   "execution_count": 34,
   "metadata": {},
   "outputs": [
    {
     "data": {
      "text/plain": [
       "{0, 1, 2}"
      ]
     },
     "execution_count": 34,
     "metadata": {},
     "output_type": "execute_result"
    }
   ],
   "source": [
    "set(cluster_labels)"
   ]
  },
  {
   "cell_type": "code",
   "execution_count": 35,
   "metadata": {
    "collapsed": true
   },
   "outputs": [],
   "source": [
    "diffs = resdf['Instructor']==resdf['ClusterLabel']"
   ]
  },
  {
   "cell_type": "code",
   "execution_count": 36,
   "metadata": {},
   "outputs": [
    {
     "data": {
      "text/plain": [
       "pandas.core.series.Series"
      ]
     },
     "execution_count": 36,
     "metadata": {},
     "output_type": "execute_result"
    }
   ],
   "source": [
    "type(diffs)"
   ]
  },
  {
   "cell_type": "code",
   "execution_count": 37,
   "metadata": {},
   "outputs": [
    {
     "data": {
      "text/plain": [
       "0    False\n",
       "1    False\n",
       "dtype: bool"
      ]
     },
     "execution_count": 37,
     "metadata": {},
     "output_type": "execute_result"
    }
   ],
   "source": [
    "diffs[:2]"
   ]
  },
  {
   "cell_type": "code",
   "execution_count": 38,
   "metadata": {},
   "outputs": [
    {
     "data": {
      "text/plain": [
       "False    4890\n",
       "True      930\n",
       "dtype: int64"
      ]
     },
     "execution_count": 38,
     "metadata": {},
     "output_type": "execute_result"
    }
   ],
   "source": [
    "diffs.value_counts()"
   ]
  },
  {
   "cell_type": "code",
   "execution_count": 39,
   "metadata": {
    "collapsed": true
   },
   "outputs": [],
   "source": [
    "# Course based"
   ]
  },
  {
   "cell_type": "code",
   "execution_count": 40,
   "metadata": {
    "collapsed": true
   },
   "outputs": [],
   "source": [
    "course_df = df.drop('class',axis= 1)"
   ]
  },
  {
   "cell_type": "code",
   "execution_count": 41,
   "metadata": {},
   "outputs": [
    {
     "data": {
      "text/html": [
       "<div>\n",
       "<style>\n",
       "    .dataframe thead tr:only-child th {\n",
       "        text-align: right;\n",
       "    }\n",
       "\n",
       "    .dataframe thead th {\n",
       "        text-align: left;\n",
       "    }\n",
       "\n",
       "    .dataframe tbody tr th {\n",
       "        vertical-align: top;\n",
       "    }\n",
       "</style>\n",
       "<table border=\"1\" class=\"dataframe\">\n",
       "  <thead>\n",
       "    <tr style=\"text-align: right;\">\n",
       "      <th></th>\n",
       "      <th>instr</th>\n",
       "      <th>nb.repeat</th>\n",
       "      <th>attendance</th>\n",
       "      <th>difficulty</th>\n",
       "      <th>Q1</th>\n",
       "      <th>Q2</th>\n",
       "      <th>Q3</th>\n",
       "      <th>Q4</th>\n",
       "      <th>Q5</th>\n",
       "      <th>Q6</th>\n",
       "      <th>...</th>\n",
       "      <th>Q19</th>\n",
       "      <th>Q20</th>\n",
       "      <th>Q21</th>\n",
       "      <th>Q22</th>\n",
       "      <th>Q23</th>\n",
       "      <th>Q24</th>\n",
       "      <th>Q25</th>\n",
       "      <th>Q26</th>\n",
       "      <th>Q27</th>\n",
       "      <th>Q28</th>\n",
       "    </tr>\n",
       "  </thead>\n",
       "  <tbody>\n",
       "    <tr>\n",
       "      <th>0</th>\n",
       "      <td>1</td>\n",
       "      <td>1</td>\n",
       "      <td>0</td>\n",
       "      <td>4</td>\n",
       "      <td>3</td>\n",
       "      <td>3</td>\n",
       "      <td>3</td>\n",
       "      <td>3</td>\n",
       "      <td>3</td>\n",
       "      <td>3</td>\n",
       "      <td>...</td>\n",
       "      <td>3</td>\n",
       "      <td>3</td>\n",
       "      <td>3</td>\n",
       "      <td>3</td>\n",
       "      <td>3</td>\n",
       "      <td>3</td>\n",
       "      <td>3</td>\n",
       "      <td>3</td>\n",
       "      <td>3</td>\n",
       "      <td>3</td>\n",
       "    </tr>\n",
       "    <tr>\n",
       "      <th>1</th>\n",
       "      <td>1</td>\n",
       "      <td>1</td>\n",
       "      <td>1</td>\n",
       "      <td>3</td>\n",
       "      <td>3</td>\n",
       "      <td>3</td>\n",
       "      <td>3</td>\n",
       "      <td>3</td>\n",
       "      <td>3</td>\n",
       "      <td>3</td>\n",
       "      <td>...</td>\n",
       "      <td>3</td>\n",
       "      <td>3</td>\n",
       "      <td>3</td>\n",
       "      <td>3</td>\n",
       "      <td>3</td>\n",
       "      <td>3</td>\n",
       "      <td>3</td>\n",
       "      <td>3</td>\n",
       "      <td>3</td>\n",
       "      <td>3</td>\n",
       "    </tr>\n",
       "    <tr>\n",
       "      <th>2</th>\n",
       "      <td>1</td>\n",
       "      <td>1</td>\n",
       "      <td>2</td>\n",
       "      <td>4</td>\n",
       "      <td>5</td>\n",
       "      <td>5</td>\n",
       "      <td>5</td>\n",
       "      <td>5</td>\n",
       "      <td>5</td>\n",
       "      <td>5</td>\n",
       "      <td>...</td>\n",
       "      <td>5</td>\n",
       "      <td>5</td>\n",
       "      <td>5</td>\n",
       "      <td>5</td>\n",
       "      <td>5</td>\n",
       "      <td>5</td>\n",
       "      <td>5</td>\n",
       "      <td>5</td>\n",
       "      <td>5</td>\n",
       "      <td>5</td>\n",
       "    </tr>\n",
       "    <tr>\n",
       "      <th>3</th>\n",
       "      <td>1</td>\n",
       "      <td>1</td>\n",
       "      <td>1</td>\n",
       "      <td>3</td>\n",
       "      <td>3</td>\n",
       "      <td>3</td>\n",
       "      <td>3</td>\n",
       "      <td>3</td>\n",
       "      <td>3</td>\n",
       "      <td>3</td>\n",
       "      <td>...</td>\n",
       "      <td>3</td>\n",
       "      <td>3</td>\n",
       "      <td>3</td>\n",
       "      <td>3</td>\n",
       "      <td>3</td>\n",
       "      <td>3</td>\n",
       "      <td>3</td>\n",
       "      <td>3</td>\n",
       "      <td>3</td>\n",
       "      <td>3</td>\n",
       "    </tr>\n",
       "    <tr>\n",
       "      <th>4</th>\n",
       "      <td>1</td>\n",
       "      <td>1</td>\n",
       "      <td>0</td>\n",
       "      <td>1</td>\n",
       "      <td>1</td>\n",
       "      <td>1</td>\n",
       "      <td>1</td>\n",
       "      <td>1</td>\n",
       "      <td>1</td>\n",
       "      <td>1</td>\n",
       "      <td>...</td>\n",
       "      <td>1</td>\n",
       "      <td>1</td>\n",
       "      <td>1</td>\n",
       "      <td>1</td>\n",
       "      <td>1</td>\n",
       "      <td>1</td>\n",
       "      <td>1</td>\n",
       "      <td>1</td>\n",
       "      <td>1</td>\n",
       "      <td>1</td>\n",
       "    </tr>\n",
       "  </tbody>\n",
       "</table>\n",
       "<p>5 rows × 32 columns</p>\n",
       "</div>"
      ],
      "text/plain": [
       "   instr  nb.repeat  attendance  difficulty  Q1  Q2  Q3  Q4  Q5  Q6 ...   Q19  \\\n",
       "0      1          1           0           4   3   3   3   3   3   3 ...     3   \n",
       "1      1          1           1           3   3   3   3   3   3   3 ...     3   \n",
       "2      1          1           2           4   5   5   5   5   5   5 ...     5   \n",
       "3      1          1           1           3   3   3   3   3   3   3 ...     3   \n",
       "4      1          1           0           1   1   1   1   1   1   1 ...     1   \n",
       "\n",
       "   Q20  Q21  Q22  Q23  Q24  Q25  Q26  Q27  Q28  \n",
       "0    3    3    3    3    3    3    3    3    3  \n",
       "1    3    3    3    3    3    3    3    3    3  \n",
       "2    5    5    5    5    5    5    5    5    5  \n",
       "3    3    3    3    3    3    3    3    3    3  \n",
       "4    1    1    1    1    1    1    1    1    1  \n",
       "\n",
       "[5 rows x 32 columns]"
      ]
     },
     "execution_count": 41,
     "metadata": {},
     "output_type": "execute_result"
    }
   ],
   "source": [
    "course_df.head()"
   ]
  },
  {
   "cell_type": "code",
   "execution_count": 42,
   "metadata": {},
   "outputs": [
    {
     "data": {
      "text/plain": [
       "StandardScaler(copy=True, with_mean=True, with_std=True)"
      ]
     },
     "execution_count": 42,
     "metadata": {},
     "output_type": "execute_result"
    }
   ],
   "source": [
    "s"
   ]
  },
  {
   "cell_type": "code",
   "execution_count": 43,
   "metadata": {
    "collapsed": true
   },
   "outputs": [],
   "source": [
    "course_df_scaled = pd.DataFrame(s.fit_transform(course_df))"
   ]
  },
  {
   "cell_type": "code",
   "execution_count": 44,
   "metadata": {},
   "outputs": [
    {
     "data": {
      "text/html": [
       "<div>\n",
       "<style>\n",
       "    .dataframe thead tr:only-child th {\n",
       "        text-align: right;\n",
       "    }\n",
       "\n",
       "    .dataframe thead th {\n",
       "        text-align: left;\n",
       "    }\n",
       "\n",
       "    .dataframe tbody tr th {\n",
       "        vertical-align: top;\n",
       "    }\n",
       "</style>\n",
       "<table border=\"1\" class=\"dataframe\">\n",
       "  <thead>\n",
       "    <tr style=\"text-align: right;\">\n",
       "      <th></th>\n",
       "      <th>0</th>\n",
       "      <th>1</th>\n",
       "      <th>2</th>\n",
       "      <th>3</th>\n",
       "      <th>4</th>\n",
       "      <th>5</th>\n",
       "      <th>6</th>\n",
       "      <th>7</th>\n",
       "      <th>8</th>\n",
       "      <th>9</th>\n",
       "      <th>...</th>\n",
       "      <th>22</th>\n",
       "      <th>23</th>\n",
       "      <th>24</th>\n",
       "      <th>25</th>\n",
       "      <th>26</th>\n",
       "      <th>27</th>\n",
       "      <th>28</th>\n",
       "      <th>29</th>\n",
       "      <th>30</th>\n",
       "      <th>31</th>\n",
       "    </tr>\n",
       "  </thead>\n",
       "  <tbody>\n",
       "    <tr>\n",
       "      <th>0</th>\n",
       "      <td>-2.06785</td>\n",
       "      <td>-0.402174</td>\n",
       "      <td>-1.136118</td>\n",
       "      <td>0.901862</td>\n",
       "      <td>0.052278</td>\n",
       "      <td>-0.05749</td>\n",
       "      <td>-0.142561</td>\n",
       "      <td>-0.064208</td>\n",
       "      <td>-0.082761</td>\n",
       "      <td>-0.083851</td>\n",
       "      <td>...</td>\n",
       "      <td>-0.206321</td>\n",
       "      <td>-0.223535</td>\n",
       "      <td>-0.242064</td>\n",
       "      <td>-0.250365</td>\n",
       "      <td>-0.158659</td>\n",
       "      <td>-0.130772</td>\n",
       "      <td>-0.248607</td>\n",
       "      <td>-0.174852</td>\n",
       "      <td>-0.119845</td>\n",
       "      <td>-0.240948</td>\n",
       "    </tr>\n",
       "    <tr>\n",
       "      <th>1</th>\n",
       "      <td>-2.06785</td>\n",
       "      <td>-0.402174</td>\n",
       "      <td>-0.458082</td>\n",
       "      <td>0.160501</td>\n",
       "      <td>0.052278</td>\n",
       "      <td>-0.05749</td>\n",
       "      <td>-0.142561</td>\n",
       "      <td>-0.064208</td>\n",
       "      <td>-0.082761</td>\n",
       "      <td>-0.083851</td>\n",
       "      <td>...</td>\n",
       "      <td>-0.206321</td>\n",
       "      <td>-0.223535</td>\n",
       "      <td>-0.242064</td>\n",
       "      <td>-0.250365</td>\n",
       "      <td>-0.158659</td>\n",
       "      <td>-0.130772</td>\n",
       "      <td>-0.248607</td>\n",
       "      <td>-0.174852</td>\n",
       "      <td>-0.119845</td>\n",
       "      <td>-0.240948</td>\n",
       "    </tr>\n",
       "    <tr>\n",
       "      <th>2</th>\n",
       "      <td>-2.06785</td>\n",
       "      <td>-0.402174</td>\n",
       "      <td>0.219954</td>\n",
       "      <td>0.901862</td>\n",
       "      <td>1.543745</td>\n",
       "      <td>1.49876</td>\n",
       "      <td>1.453023</td>\n",
       "      <td>1.492837</td>\n",
       "      <td>1.481107</td>\n",
       "      <td>1.477798</td>\n",
       "      <td>...</td>\n",
       "      <td>1.370552</td>\n",
       "      <td>1.342957</td>\n",
       "      <td>1.332907</td>\n",
       "      <td>1.326612</td>\n",
       "      <td>1.413075</td>\n",
       "      <td>1.436873</td>\n",
       "      <td>1.342258</td>\n",
       "      <td>1.399225</td>\n",
       "      <td>1.428430</td>\n",
       "      <td>1.323265</td>\n",
       "    </tr>\n",
       "    <tr>\n",
       "      <th>3</th>\n",
       "      <td>-2.06785</td>\n",
       "      <td>-0.402174</td>\n",
       "      <td>-0.458082</td>\n",
       "      <td>0.160501</td>\n",
       "      <td>0.052278</td>\n",
       "      <td>-0.05749</td>\n",
       "      <td>-0.142561</td>\n",
       "      <td>-0.064208</td>\n",
       "      <td>-0.082761</td>\n",
       "      <td>-0.083851</td>\n",
       "      <td>...</td>\n",
       "      <td>-0.206321</td>\n",
       "      <td>-0.223535</td>\n",
       "      <td>-0.242064</td>\n",
       "      <td>-0.250365</td>\n",
       "      <td>-0.158659</td>\n",
       "      <td>-0.130772</td>\n",
       "      <td>-0.248607</td>\n",
       "      <td>-0.174852</td>\n",
       "      <td>-0.119845</td>\n",
       "      <td>-0.240948</td>\n",
       "    </tr>\n",
       "    <tr>\n",
       "      <th>4</th>\n",
       "      <td>-2.06785</td>\n",
       "      <td>-0.402174</td>\n",
       "      <td>-1.136118</td>\n",
       "      <td>-1.322221</td>\n",
       "      <td>-1.439189</td>\n",
       "      <td>-1.61374</td>\n",
       "      <td>-1.738145</td>\n",
       "      <td>-1.621254</td>\n",
       "      <td>-1.646630</td>\n",
       "      <td>-1.645501</td>\n",
       "      <td>...</td>\n",
       "      <td>-1.783194</td>\n",
       "      <td>-1.790026</td>\n",
       "      <td>-1.817034</td>\n",
       "      <td>-1.827343</td>\n",
       "      <td>-1.730392</td>\n",
       "      <td>-1.698417</td>\n",
       "      <td>-1.839472</td>\n",
       "      <td>-1.748929</td>\n",
       "      <td>-1.668120</td>\n",
       "      <td>-1.805160</td>\n",
       "    </tr>\n",
       "  </tbody>\n",
       "</table>\n",
       "<p>5 rows × 32 columns</p>\n",
       "</div>"
      ],
      "text/plain": [
       "        0         1         2         3         4        5         6   \\\n",
       "0 -2.06785 -0.402174 -1.136118  0.901862  0.052278 -0.05749 -0.142561   \n",
       "1 -2.06785 -0.402174 -0.458082  0.160501  0.052278 -0.05749 -0.142561   \n",
       "2 -2.06785 -0.402174  0.219954  0.901862  1.543745  1.49876  1.453023   \n",
       "3 -2.06785 -0.402174 -0.458082  0.160501  0.052278 -0.05749 -0.142561   \n",
       "4 -2.06785 -0.402174 -1.136118 -1.322221 -1.439189 -1.61374 -1.738145   \n",
       "\n",
       "         7         8         9     ...           22        23        24  \\\n",
       "0 -0.064208 -0.082761 -0.083851    ...    -0.206321 -0.223535 -0.242064   \n",
       "1 -0.064208 -0.082761 -0.083851    ...    -0.206321 -0.223535 -0.242064   \n",
       "2  1.492837  1.481107  1.477798    ...     1.370552  1.342957  1.332907   \n",
       "3 -0.064208 -0.082761 -0.083851    ...    -0.206321 -0.223535 -0.242064   \n",
       "4 -1.621254 -1.646630 -1.645501    ...    -1.783194 -1.790026 -1.817034   \n",
       "\n",
       "         25        26        27        28        29        30        31  \n",
       "0 -0.250365 -0.158659 -0.130772 -0.248607 -0.174852 -0.119845 -0.240948  \n",
       "1 -0.250365 -0.158659 -0.130772 -0.248607 -0.174852 -0.119845 -0.240948  \n",
       "2  1.326612  1.413075  1.436873  1.342258  1.399225  1.428430  1.323265  \n",
       "3 -0.250365 -0.158659 -0.130772 -0.248607 -0.174852 -0.119845 -0.240948  \n",
       "4 -1.827343 -1.730392 -1.698417 -1.839472 -1.748929 -1.668120 -1.805160  \n",
       "\n",
       "[5 rows x 32 columns]"
      ]
     },
     "execution_count": 44,
     "metadata": {},
     "output_type": "execute_result"
    }
   ],
   "source": [
    "course_df_scaled.head()"
   ]
  },
  {
   "cell_type": "code",
   "execution_count": 45,
   "metadata": {
    "collapsed": true
   },
   "outputs": [],
   "source": [
    "cwcss = []"
   ]
  },
  {
   "cell_type": "code",
   "execution_count": 46,
   "metadata": {
    "collapsed": true
   },
   "outputs": [],
   "source": [
    "for i in range (1,10):\n",
    "    km = KMeans(n_clusters=i,init='k-means++',random_state = 42)\n",
    "    km.fit(course_df_scaled)\n",
    "    cwcss.append(km.inertia_)"
   ]
  },
  {
   "cell_type": "code",
   "execution_count": 47,
   "metadata": {},
   "outputs": [
    {
     "data": {
      "text/plain": [
       "[<matplotlib.lines.Line2D at 0x7f914016d828>]"
      ]
     },
     "execution_count": 47,
     "metadata": {},
     "output_type": "execute_result"
    },
    {
     "data": {
      "image/png": "[encoded data removed]",
      "text/plain": [
       "<matplotlib.figure.Figure at 0x7f9140b2a240>"
      ]
     },
     "metadata": {},
     "output_type": "display_data"
    }
   ],
   "source": [
    "plt.plot(range(1,10),cwcss)"
   ]
  },
  {
   "cell_type": "code",
   "execution_count": 48,
   "metadata": {},
   "outputs": [
    {
     "data": {
      "text/plain": [
       "[186240.0,\n",
       " 99333.203583673632,\n",
       " 68145.604879047678,\n",
       " 59745.018013564339,\n",
       " 54623.750400537196,\n",
       " 51821.785317425063,\n",
       " 50151.795234729332,\n",
       " 48736.371435710913,\n",
       " 47383.822270213102]"
      ]
     },
     "execution_count": 48,
     "metadata": {},
     "output_type": "execute_result"
    }
   ],
   "source": [
    "cwcss"
   ]
  },
  {
   "cell_type": "code",
   "execution_count": 49,
   "metadata": {
    "collapsed": true
   },
   "outputs": [],
   "source": [
    "ckm_opt = KMeans(init='k-means++',n_clusters=3)"
   ]
  },
  {
   "cell_type": "code",
   "execution_count": 50,
   "metadata": {
    "collapsed": true
   },
   "outputs": [],
   "source": [
    "df_scaled = pd.DataFrame(s.fit_transform(df))"
   ]
  },
  {
   "cell_type": "code",
   "execution_count": 51,
   "metadata": {},
   "outputs": [
    {
     "data": {
      "text/html": [
       "<div>\n",
       "<style>\n",
       "    .dataframe thead tr:only-child th {\n",
       "        text-align: right;\n",
       "    }\n",
       "\n",
       "    .dataframe thead th {\n",
       "        text-align: left;\n",
       "    }\n",
       "\n",
       "    .dataframe tbody tr th {\n",
       "        vertical-align: top;\n",
       "    }\n",
       "</style>\n",
       "<table border=\"1\" class=\"dataframe\">\n",
       "  <thead>\n",
       "    <tr style=\"text-align: right;\">\n",
       "      <th></th>\n",
       "      <th>0</th>\n",
       "      <th>1</th>\n",
       "      <th>2</th>\n",
       "      <th>3</th>\n",
       "      <th>4</th>\n",
       "      <th>5</th>\n",
       "      <th>6</th>\n",
       "      <th>7</th>\n",
       "      <th>8</th>\n",
       "      <th>9</th>\n",
       "      <th>...</th>\n",
       "      <th>23</th>\n",
       "      <th>24</th>\n",
       "      <th>25</th>\n",
       "      <th>26</th>\n",
       "      <th>27</th>\n",
       "      <th>28</th>\n",
       "      <th>29</th>\n",
       "      <th>30</th>\n",
       "      <th>31</th>\n",
       "      <th>32</th>\n",
       "    </tr>\n",
       "  </thead>\n",
       "  <tbody>\n",
       "    <tr>\n",
       "      <th>0</th>\n",
       "      <td>-2.06785</td>\n",
       "      <td>-1.430719</td>\n",
       "      <td>-0.402174</td>\n",
       "      <td>-1.136118</td>\n",
       "      <td>0.901862</td>\n",
       "      <td>0.052278</td>\n",
       "      <td>-0.05749</td>\n",
       "      <td>-0.142561</td>\n",
       "      <td>-0.064208</td>\n",
       "      <td>-0.082761</td>\n",
       "      <td>...</td>\n",
       "      <td>-0.206321</td>\n",
       "      <td>-0.223535</td>\n",
       "      <td>-0.242064</td>\n",
       "      <td>-0.250365</td>\n",
       "      <td>-0.158659</td>\n",
       "      <td>-0.130772</td>\n",
       "      <td>-0.248607</td>\n",
       "      <td>-0.174852</td>\n",
       "      <td>-0.119845</td>\n",
       "      <td>-0.240948</td>\n",
       "    </tr>\n",
       "    <tr>\n",
       "      <th>1</th>\n",
       "      <td>-2.06785</td>\n",
       "      <td>-1.430719</td>\n",
       "      <td>-0.402174</td>\n",
       "      <td>-0.458082</td>\n",
       "      <td>0.160501</td>\n",
       "      <td>0.052278</td>\n",
       "      <td>-0.05749</td>\n",
       "      <td>-0.142561</td>\n",
       "      <td>-0.064208</td>\n",
       "      <td>-0.082761</td>\n",
       "      <td>...</td>\n",
       "      <td>-0.206321</td>\n",
       "      <td>-0.223535</td>\n",
       "      <td>-0.242064</td>\n",
       "      <td>-0.250365</td>\n",
       "      <td>-0.158659</td>\n",
       "      <td>-0.130772</td>\n",
       "      <td>-0.248607</td>\n",
       "      <td>-0.174852</td>\n",
       "      <td>-0.119845</td>\n",
       "      <td>-0.240948</td>\n",
       "    </tr>\n",
       "    <tr>\n",
       "      <th>2</th>\n",
       "      <td>-2.06785</td>\n",
       "      <td>-1.430719</td>\n",
       "      <td>-0.402174</td>\n",
       "      <td>0.219954</td>\n",
       "      <td>0.901862</td>\n",
       "      <td>1.543745</td>\n",
       "      <td>1.49876</td>\n",
       "      <td>1.453023</td>\n",
       "      <td>1.492837</td>\n",
       "      <td>1.481107</td>\n",
       "      <td>...</td>\n",
       "      <td>1.370552</td>\n",
       "      <td>1.342957</td>\n",
       "      <td>1.332907</td>\n",
       "      <td>1.326612</td>\n",
       "      <td>1.413075</td>\n",
       "      <td>1.436873</td>\n",
       "      <td>1.342258</td>\n",
       "      <td>1.399225</td>\n",
       "      <td>1.428430</td>\n",
       "      <td>1.323265</td>\n",
       "    </tr>\n",
       "    <tr>\n",
       "      <th>3</th>\n",
       "      <td>-2.06785</td>\n",
       "      <td>-1.430719</td>\n",
       "      <td>-0.402174</td>\n",
       "      <td>-0.458082</td>\n",
       "      <td>0.160501</td>\n",
       "      <td>0.052278</td>\n",
       "      <td>-0.05749</td>\n",
       "      <td>-0.142561</td>\n",
       "      <td>-0.064208</td>\n",
       "      <td>-0.082761</td>\n",
       "      <td>...</td>\n",
       "      <td>-0.206321</td>\n",
       "      <td>-0.223535</td>\n",
       "      <td>-0.242064</td>\n",
       "      <td>-0.250365</td>\n",
       "      <td>-0.158659</td>\n",
       "      <td>-0.130772</td>\n",
       "      <td>-0.248607</td>\n",
       "      <td>-0.174852</td>\n",
       "      <td>-0.119845</td>\n",
       "      <td>-0.240948</td>\n",
       "    </tr>\n",
       "    <tr>\n",
       "      <th>4</th>\n",
       "      <td>-2.06785</td>\n",
       "      <td>-1.430719</td>\n",
       "      <td>-0.402174</td>\n",
       "      <td>-1.136118</td>\n",
       "      <td>-1.322221</td>\n",
       "      <td>-1.439189</td>\n",
       "      <td>-1.61374</td>\n",
       "      <td>-1.738145</td>\n",
       "      <td>-1.621254</td>\n",
       "      <td>-1.646630</td>\n",
       "      <td>...</td>\n",
       "      <td>-1.783194</td>\n",
       "      <td>-1.790026</td>\n",
       "      <td>-1.817034</td>\n",
       "      <td>-1.827343</td>\n",
       "      <td>-1.730392</td>\n",
       "      <td>-1.698417</td>\n",
       "      <td>-1.839472</td>\n",
       "      <td>-1.748929</td>\n",
       "      <td>-1.668120</td>\n",
       "      <td>-1.805160</td>\n",
       "    </tr>\n",
       "  </tbody>\n",
       "</table>\n",
       "<p>5 rows × 33 columns</p>\n",
       "</div>"
      ],
      "text/plain": [
       "        0         1         2         3         4         5        6   \\\n",
       "0 -2.06785 -1.430719 -0.402174 -1.136118  0.901862  0.052278 -0.05749   \n",
       "1 -2.06785 -1.430719 -0.402174 -0.458082  0.160501  0.052278 -0.05749   \n",
       "2 -2.06785 -1.430719 -0.402174  0.219954  0.901862  1.543745  1.49876   \n",
       "3 -2.06785 -1.430719 -0.402174 -0.458082  0.160501  0.052278 -0.05749   \n",
       "4 -2.06785 -1.430719 -0.402174 -1.136118 -1.322221 -1.439189 -1.61374   \n",
       "\n",
       "         7         8         9     ...           23        24        25  \\\n",
       "0 -0.142561 -0.064208 -0.082761    ...    -0.206321 -0.223535 -0.242064   \n",
       "1 -0.142561 -0.064208 -0.082761    ...    -0.206321 -0.223535 -0.242064   \n",
       "2  1.453023  1.492837  1.481107    ...     1.370552  1.342957  1.332907   \n",
       "3 -0.142561 -0.064208 -0.082761    ...    -0.206321 -0.223535 -0.242064   \n",
       "4 -1.738145 -1.621254 -1.646630    ...    -1.783194 -1.790026 -1.817034   \n",
       "\n",
       "         26        27        28        29        30        31        32  \n",
       "0 -0.250365 -0.158659 -0.130772 -0.248607 -0.174852 -0.119845 -0.240948  \n",
       "1 -0.250365 -0.158659 -0.130772 -0.248607 -0.174852 -0.119845 -0.240948  \n",
       "2  1.326612  1.413075  1.436873  1.342258  1.399225  1.428430  1.323265  \n",
       "3 -0.250365 -0.158659 -0.130772 -0.248607 -0.174852 -0.119845 -0.240948  \n",
       "4 -1.827343 -1.730392 -1.698417 -1.839472 -1.748929 -1.668120 -1.805160  \n",
       "\n",
       "[5 rows x 33 columns]"
      ]
     },
     "execution_count": 51,
     "metadata": {},
     "output_type": "execute_result"
    }
   ],
   "source": [
    "df_scaled.head()"
   ]
  },
  {
   "cell_type": "code",
   "execution_count": 52,
   "metadata": {
    "collapsed": true
   },
   "outputs": [],
   "source": [
    "allwcss = []\n",
    "for i in range (1,11):\n",
    "    km = KMeans(n_clusters=i,init='k-means++',random_state = 42)\n",
    "    km.fit(unlabelled_df)\n",
    "    allwcss.append(km.inertia_)"
   ]
  },
  {
   "cell_type": "code",
   "execution_count": 53,
   "metadata": {},
   "outputs": [
    {
     "data": {
      "text/plain": [
       "[<matplotlib.lines.Line2D at 0x7f91400915f8>]"
      ]
     },
     "execution_count": 53,
     "metadata": {},
     "output_type": "execute_result"
    },
    {
     "data": {
      "image/png": "[encoded data removed]",
      "text/plain": [
       "<matplotlib.figure.Figure at 0x7f914028b320>"
      ]
     },
     "metadata": {},
     "output_type": "display_data"
    }
   ],
   "source": [
    "plt.plot(range(1,11),allwcss)"
   ]
  },
  {
   "cell_type": "code",
   "execution_count": 54,
   "metadata": {},
   "outputs": [
    {
     "data": {
      "text/plain": [
       "[186240.0,\n",
       " 99431.832160334816,\n",
       " 68250.383767175852,\n",
       " 59856.45014044064,\n",
       " 54734.146361939893,\n",
       " 51940.80728606935,\n",
       " 50243.336799890531,\n",
       " 48848.979089753047,\n",
       " 47935.927138523752,\n",
       " 46389.336684351816]"
      ]
     },
     "execution_count": 54,
     "metadata": {},
     "output_type": "execute_result"
    }
   ],
   "source": [
    "allwcss"
   ]
  },
  {
   "cell_type": "code",
   "execution_count": 55,
   "metadata": {
    "collapsed": true
   },
   "outputs": [],
   "source": [
    "ndf = df.drop(['instr','class'],axis = 1)"
   ]
  },
  {
   "cell_type": "code",
   "execution_count": 56,
   "metadata": {
    "collapsed": true
   },
   "outputs": [],
   "source": [
    "s = StandardScaler()"
   ]
  },
  {
   "cell_type": "code",
   "execution_count": 57,
   "metadata": {
    "collapsed": true
   },
   "outputs": [],
   "source": [
    "ndfs = pd.DataFrame(s.fit_transform(ndf))"
   ]
  },
  {
   "cell_type": "code",
   "execution_count": 58,
   "metadata": {},
   "outputs": [
    {
     "data": {
      "text/html": [
       "<div>\n",
       "<style>\n",
       "    .dataframe thead tr:only-child th {\n",
       "        text-align: right;\n",
       "    }\n",
       "\n",
       "    .dataframe thead th {\n",
       "        text-align: left;\n",
       "    }\n",
       "\n",
       "    .dataframe tbody tr th {\n",
       "        vertical-align: top;\n",
       "    }\n",
       "</style>\n",
       "<table border=\"1\" class=\"dataframe\">\n",
       "  <thead>\n",
       "    <tr style=\"text-align: right;\">\n",
       "      <th></th>\n",
       "      <th>0</th>\n",
       "      <th>1</th>\n",
       "      <th>2</th>\n",
       "      <th>3</th>\n",
       "      <th>4</th>\n",
       "      <th>5</th>\n",
       "      <th>6</th>\n",
       "      <th>7</th>\n",
       "      <th>8</th>\n",
       "      <th>9</th>\n",
       "      <th>...</th>\n",
       "      <th>21</th>\n",
       "      <th>22</th>\n",
       "      <th>23</th>\n",
       "      <th>24</th>\n",
       "      <th>25</th>\n",
       "      <th>26</th>\n",
       "      <th>27</th>\n",
       "      <th>28</th>\n",
       "      <th>29</th>\n",
       "      <th>30</th>\n",
       "    </tr>\n",
       "  </thead>\n",
       "  <tbody>\n",
       "    <tr>\n",
       "      <th>0</th>\n",
       "      <td>-0.402174</td>\n",
       "      <td>-1.136118</td>\n",
       "      <td>0.901862</td>\n",
       "      <td>0.052278</td>\n",
       "      <td>-0.05749</td>\n",
       "      <td>-0.142561</td>\n",
       "      <td>-0.064208</td>\n",
       "      <td>-0.082761</td>\n",
       "      <td>-0.083851</td>\n",
       "      <td>-0.051856</td>\n",
       "      <td>...</td>\n",
       "      <td>-0.206321</td>\n",
       "      <td>-0.223535</td>\n",
       "      <td>-0.242064</td>\n",
       "      <td>-0.250365</td>\n",
       "      <td>-0.158659</td>\n",
       "      <td>-0.130772</td>\n",
       "      <td>-0.248607</td>\n",
       "      <td>-0.174852</td>\n",
       "      <td>-0.119845</td>\n",
       "      <td>-0.240948</td>\n",
       "    </tr>\n",
       "    <tr>\n",
       "      <th>1</th>\n",
       "      <td>-0.402174</td>\n",
       "      <td>-0.458082</td>\n",
       "      <td>0.160501</td>\n",
       "      <td>0.052278</td>\n",
       "      <td>-0.05749</td>\n",
       "      <td>-0.142561</td>\n",
       "      <td>-0.064208</td>\n",
       "      <td>-0.082761</td>\n",
       "      <td>-0.083851</td>\n",
       "      <td>-0.051856</td>\n",
       "      <td>...</td>\n",
       "      <td>-0.206321</td>\n",
       "      <td>-0.223535</td>\n",
       "      <td>-0.242064</td>\n",
       "      <td>-0.250365</td>\n",
       "      <td>-0.158659</td>\n",
       "      <td>-0.130772</td>\n",
       "      <td>-0.248607</td>\n",
       "      <td>-0.174852</td>\n",
       "      <td>-0.119845</td>\n",
       "      <td>-0.240948</td>\n",
       "    </tr>\n",
       "    <tr>\n",
       "      <th>2</th>\n",
       "      <td>-0.402174</td>\n",
       "      <td>0.219954</td>\n",
       "      <td>0.901862</td>\n",
       "      <td>1.543745</td>\n",
       "      <td>1.49876</td>\n",
       "      <td>1.453023</td>\n",
       "      <td>1.492837</td>\n",
       "      <td>1.481107</td>\n",
       "      <td>1.477798</td>\n",
       "      <td>1.511882</td>\n",
       "      <td>...</td>\n",
       "      <td>1.370552</td>\n",
       "      <td>1.342957</td>\n",
       "      <td>1.332907</td>\n",
       "      <td>1.326612</td>\n",
       "      <td>1.413075</td>\n",
       "      <td>1.436873</td>\n",
       "      <td>1.342258</td>\n",
       "      <td>1.399225</td>\n",
       "      <td>1.428430</td>\n",
       "      <td>1.323265</td>\n",
       "    </tr>\n",
       "    <tr>\n",
       "      <th>3</th>\n",
       "      <td>-0.402174</td>\n",
       "      <td>-0.458082</td>\n",
       "      <td>0.160501</td>\n",
       "      <td>0.052278</td>\n",
       "      <td>-0.05749</td>\n",
       "      <td>-0.142561</td>\n",
       "      <td>-0.064208</td>\n",
       "      <td>-0.082761</td>\n",
       "      <td>-0.083851</td>\n",
       "      <td>-0.051856</td>\n",
       "      <td>...</td>\n",
       "      <td>-0.206321</td>\n",
       "      <td>-0.223535</td>\n",
       "      <td>-0.242064</td>\n",
       "      <td>-0.250365</td>\n",
       "      <td>-0.158659</td>\n",
       "      <td>-0.130772</td>\n",
       "      <td>-0.248607</td>\n",
       "      <td>-0.174852</td>\n",
       "      <td>-0.119845</td>\n",
       "      <td>-0.240948</td>\n",
       "    </tr>\n",
       "    <tr>\n",
       "      <th>4</th>\n",
       "      <td>-0.402174</td>\n",
       "      <td>-1.136118</td>\n",
       "      <td>-1.322221</td>\n",
       "      <td>-1.439189</td>\n",
       "      <td>-1.61374</td>\n",
       "      <td>-1.738145</td>\n",
       "      <td>-1.621254</td>\n",
       "      <td>-1.646630</td>\n",
       "      <td>-1.645501</td>\n",
       "      <td>-1.615594</td>\n",
       "      <td>...</td>\n",
       "      <td>-1.783194</td>\n",
       "      <td>-1.790026</td>\n",
       "      <td>-1.817034</td>\n",
       "      <td>-1.827343</td>\n",
       "      <td>-1.730392</td>\n",
       "      <td>-1.698417</td>\n",
       "      <td>-1.839472</td>\n",
       "      <td>-1.748929</td>\n",
       "      <td>-1.668120</td>\n",
       "      <td>-1.805160</td>\n",
       "    </tr>\n",
       "  </tbody>\n",
       "</table>\n",
       "<p>5 rows × 31 columns</p>\n",
       "</div>"
      ],
      "text/plain": [
       "         0         1         2         3        4         5         6   \\\n",
       "0 -0.402174 -1.136118  0.901862  0.052278 -0.05749 -0.142561 -0.064208   \n",
       "1 -0.402174 -0.458082  0.160501  0.052278 -0.05749 -0.142561 -0.064208   \n",
       "2 -0.402174  0.219954  0.901862  1.543745  1.49876  1.453023  1.492837   \n",
       "3 -0.402174 -0.458082  0.160501  0.052278 -0.05749 -0.142561 -0.064208   \n",
       "4 -0.402174 -1.136118 -1.322221 -1.439189 -1.61374 -1.738145 -1.621254   \n",
       "\n",
       "         7         8         9     ...           21        22        23  \\\n",
       "0 -0.082761 -0.083851 -0.051856    ...    -0.206321 -0.223535 -0.242064   \n",
       "1 -0.082761 -0.083851 -0.051856    ...    -0.206321 -0.223535 -0.242064   \n",
       "2  1.481107  1.477798  1.511882    ...     1.370552  1.342957  1.332907   \n",
       "3 -0.082761 -0.083851 -0.051856    ...    -0.206321 -0.223535 -0.242064   \n",
       "4 -1.646630 -1.645501 -1.615594    ...    -1.783194 -1.790026 -1.817034   \n",
       "\n",
       "         24        25        26        27        28        29        30  \n",
       "0 -0.250365 -0.158659 -0.130772 -0.248607 -0.174852 -0.119845 -0.240948  \n",
       "1 -0.250365 -0.158659 -0.130772 -0.248607 -0.174852 -0.119845 -0.240948  \n",
       "2  1.326612  1.413075  1.436873  1.342258  1.399225  1.428430  1.323265  \n",
       "3 -0.250365 -0.158659 -0.130772 -0.248607 -0.174852 -0.119845 -0.240948  \n",
       "4 -1.827343 -1.730392 -1.698417 -1.839472 -1.748929 -1.668120 -1.805160  \n",
       "\n",
       "[5 rows x 31 columns]"
      ]
     },
     "execution_count": 58,
     "metadata": {},
     "output_type": "execute_result"
    }
   ],
   "source": [
    "ndfs.head()"
   ]
  },
  {
   "cell_type": "code",
   "execution_count": 59,
   "metadata": {},
   "outputs": [
    {
     "data": {
      "text/html": [
       "<div>\n",
       "<style>\n",
       "    .dataframe thead tr:only-child th {\n",
       "        text-align: right;\n",
       "    }\n",
       "\n",
       "    .dataframe thead th {\n",
       "        text-align: left;\n",
       "    }\n",
       "\n",
       "    .dataframe tbody tr th {\n",
       "        vertical-align: top;\n",
       "    }\n",
       "</style>\n",
       "<table border=\"1\" class=\"dataframe\">\n",
       "  <thead>\n",
       "    <tr style=\"text-align: right;\">\n",
       "      <th></th>\n",
       "      <th>0</th>\n",
       "      <th>1</th>\n",
       "      <th>2</th>\n",
       "      <th>3</th>\n",
       "      <th>4</th>\n",
       "      <th>5</th>\n",
       "      <th>6</th>\n",
       "      <th>7</th>\n",
       "      <th>8</th>\n",
       "      <th>9</th>\n",
       "      <th>...</th>\n",
       "      <th>21</th>\n",
       "      <th>22</th>\n",
       "      <th>23</th>\n",
       "      <th>24</th>\n",
       "      <th>25</th>\n",
       "      <th>26</th>\n",
       "      <th>27</th>\n",
       "      <th>28</th>\n",
       "      <th>29</th>\n",
       "      <th>30</th>\n",
       "    </tr>\n",
       "  </thead>\n",
       "  <tbody>\n",
       "    <tr>\n",
       "      <th>count</th>\n",
       "      <td>5.820000e+03</td>\n",
       "      <td>5.820000e+03</td>\n",
       "      <td>5.820000e+03</td>\n",
       "      <td>5.820000e+03</td>\n",
       "      <td>5.820000e+03</td>\n",
       "      <td>5.820000e+03</td>\n",
       "      <td>5.820000e+03</td>\n",
       "      <td>5.820000e+03</td>\n",
       "      <td>5.820000e+03</td>\n",
       "      <td>5.820000e+03</td>\n",
       "      <td>...</td>\n",
       "      <td>5.820000e+03</td>\n",
       "      <td>5.820000e+03</td>\n",
       "      <td>5.820000e+03</td>\n",
       "      <td>5.820000e+03</td>\n",
       "      <td>5.820000e+03</td>\n",
       "      <td>5.820000e+03</td>\n",
       "      <td>5.820000e+03</td>\n",
       "      <td>5.820000e+03</td>\n",
       "      <td>5.820000e+03</td>\n",
       "      <td>5.820000e+03</td>\n",
       "    </tr>\n",
       "    <tr>\n",
       "      <th>mean</th>\n",
       "      <td>-7.344278e-15</td>\n",
       "      <td>-1.382514e-15</td>\n",
       "      <td>2.960976e-16</td>\n",
       "      <td>1.688760e-15</td>\n",
       "      <td>-1.091681e-15</td>\n",
       "      <td>-2.070890e-16</td>\n",
       "      <td>2.644849e-15</td>\n",
       "      <td>-8.257618e-16</td>\n",
       "      <td>-2.114384e-15</td>\n",
       "      <td>2.001606e-15</td>\n",
       "      <td>...</td>\n",
       "      <td>-2.832251e-15</td>\n",
       "      <td>1.454354e-16</td>\n",
       "      <td>3.596054e-15</td>\n",
       "      <td>3.714783e-15</td>\n",
       "      <td>1.333717e-15</td>\n",
       "      <td>1.432836e-15</td>\n",
       "      <td>1.561485e-15</td>\n",
       "      <td>2.261345e-15</td>\n",
       "      <td>7.546464e-16</td>\n",
       "      <td>-1.237956e-15</td>\n",
       "    </tr>\n",
       "    <tr>\n",
       "      <th>std</th>\n",
       "      <td>1.000086e+00</td>\n",
       "      <td>1.000086e+00</td>\n",
       "      <td>1.000086e+00</td>\n",
       "      <td>1.000086e+00</td>\n",
       "      <td>1.000086e+00</td>\n",
       "      <td>1.000086e+00</td>\n",
       "      <td>1.000086e+00</td>\n",
       "      <td>1.000086e+00</td>\n",
       "      <td>1.000086e+00</td>\n",
       "      <td>1.000086e+00</td>\n",
       "      <td>...</td>\n",
       "      <td>1.000086e+00</td>\n",
       "      <td>1.000086e+00</td>\n",
       "      <td>1.000086e+00</td>\n",
       "      <td>1.000086e+00</td>\n",
       "      <td>1.000086e+00</td>\n",
       "      <td>1.000086e+00</td>\n",
       "      <td>1.000086e+00</td>\n",
       "      <td>1.000086e+00</td>\n",
       "      <td>1.000086e+00</td>\n",
       "      <td>1.000086e+00</td>\n",
       "    </tr>\n",
       "    <tr>\n",
       "      <th>min</th>\n",
       "      <td>-4.021740e-01</td>\n",
       "      <td>-1.136118e+00</td>\n",
       "      <td>-1.322221e+00</td>\n",
       "      <td>-1.439189e+00</td>\n",
       "      <td>-1.613740e+00</td>\n",
       "      <td>-1.738145e+00</td>\n",
       "      <td>-1.621254e+00</td>\n",
       "      <td>-1.646630e+00</td>\n",
       "      <td>-1.645501e+00</td>\n",
       "      <td>-1.615594e+00</td>\n",
       "      <td>...</td>\n",
       "      <td>-1.783194e+00</td>\n",
       "      <td>-1.790026e+00</td>\n",
       "      <td>-1.817034e+00</td>\n",
       "      <td>-1.827343e+00</td>\n",
       "      <td>-1.730392e+00</td>\n",
       "      <td>-1.698417e+00</td>\n",
       "      <td>-1.839472e+00</td>\n",
       "      <td>-1.748929e+00</td>\n",
       "      <td>-1.668120e+00</td>\n",
       "      <td>-1.805160e+00</td>\n",
       "    </tr>\n",
       "    <tr>\n",
       "      <th>25%</th>\n",
       "      <td>-4.021740e-01</td>\n",
       "      <td>-1.136118e+00</td>\n",
       "      <td>-1.322221e+00</td>\n",
       "      <td>-6.934552e-01</td>\n",
       "      <td>-8.356154e-01</td>\n",
       "      <td>-9.403527e-01</td>\n",
       "      <td>-8.427308e-01</td>\n",
       "      <td>-8.646959e-01</td>\n",
       "      <td>-8.646760e-01</td>\n",
       "      <td>-8.337248e-01</td>\n",
       "      <td>...</td>\n",
       "      <td>-2.063210e-01</td>\n",
       "      <td>-2.235345e-01</td>\n",
       "      <td>-2.420638e-01</td>\n",
       "      <td>-2.503655e-01</td>\n",
       "      <td>-9.445255e-01</td>\n",
       "      <td>-9.145943e-01</td>\n",
       "      <td>-2.486068e-01</td>\n",
       "      <td>-9.618909e-01</td>\n",
       "      <td>-8.939823e-01</td>\n",
       "      <td>-2.409479e-01</td>\n",
       "    </tr>\n",
       "    <tr>\n",
       "      <th>50%</th>\n",
       "      <td>-4.021740e-01</td>\n",
       "      <td>-4.580819e-01</td>\n",
       "      <td>1.605008e-01</td>\n",
       "      <td>5.227822e-02</td>\n",
       "      <td>-5.749034e-02</td>\n",
       "      <td>-1.425608e-01</td>\n",
       "      <td>-6.420806e-02</td>\n",
       "      <td>-8.276145e-02</td>\n",
       "      <td>-8.385143e-02</td>\n",
       "      <td>-5.185591e-02</td>\n",
       "      <td>...</td>\n",
       "      <td>-2.063210e-01</td>\n",
       "      <td>-2.235345e-01</td>\n",
       "      <td>-2.420638e-01</td>\n",
       "      <td>-2.503655e-01</td>\n",
       "      <td>-1.586587e-01</td>\n",
       "      <td>-1.307718e-01</td>\n",
       "      <td>-2.486068e-01</td>\n",
       "      <td>-1.748524e-01</td>\n",
       "      <td>-1.198450e-01</td>\n",
       "      <td>-2.409479e-01</td>\n",
       "    </tr>\n",
       "    <tr>\n",
       "      <th>75%</th>\n",
       "      <td>-4.021740e-01</td>\n",
       "      <td>8.979896e-01</td>\n",
       "      <td>9.018615e-01</td>\n",
       "      <td>7.980117e-01</td>\n",
       "      <td>7.206347e-01</td>\n",
       "      <td>6.552312e-01</td>\n",
       "      <td>7.143147e-01</td>\n",
       "      <td>6.991730e-01</td>\n",
       "      <td>6.969731e-01</td>\n",
       "      <td>7.300129e-01</td>\n",
       "      <td>...</td>\n",
       "      <td>5.821153e-01</td>\n",
       "      <td>5.597111e-01</td>\n",
       "      <td>5.454215e-01</td>\n",
       "      <td>5.381232e-01</td>\n",
       "      <td>6.272081e-01</td>\n",
       "      <td>6.530507e-01</td>\n",
       "      <td>5.468257e-01</td>\n",
       "      <td>6.121861e-01</td>\n",
       "      <td>6.542923e-01</td>\n",
       "      <td>5.411584e-01</td>\n",
       "    </tr>\n",
       "    <tr>\n",
       "      <th>max</th>\n",
       "      <td>3.354893e+00</td>\n",
       "      <td>1.576025e+00</td>\n",
       "      <td>1.643222e+00</td>\n",
       "      <td>1.543745e+00</td>\n",
       "      <td>1.498760e+00</td>\n",
       "      <td>1.453023e+00</td>\n",
       "      <td>1.492837e+00</td>\n",
       "      <td>1.481107e+00</td>\n",
       "      <td>1.477798e+00</td>\n",
       "      <td>1.511882e+00</td>\n",
       "      <td>...</td>\n",
       "      <td>1.370552e+00</td>\n",
       "      <td>1.342957e+00</td>\n",
       "      <td>1.332907e+00</td>\n",
       "      <td>1.326612e+00</td>\n",
       "      <td>1.413075e+00</td>\n",
       "      <td>1.436873e+00</td>\n",
       "      <td>1.342258e+00</td>\n",
       "      <td>1.399225e+00</td>\n",
       "      <td>1.428430e+00</td>\n",
       "      <td>1.323265e+00</td>\n",
       "    </tr>\n",
       "  </tbody>\n",
       "</table>\n",
       "<p>8 rows × 31 columns</p>\n",
       "</div>"
      ],
      "text/plain": [
       "                 0             1             2             3             4   \\\n",
       "count  5.820000e+03  5.820000e+03  5.820000e+03  5.820000e+03  5.820000e+03   \n",
       "mean  -7.344278e-15 -1.382514e-15  2.960976e-16  1.688760e-15 -1.091681e-15   \n",
       "std    1.000086e+00  1.000086e+00  1.000086e+00  1.000086e+00  1.000086e+00   \n",
       "min   -4.021740e-01 -1.136118e+00 -1.322221e+00 -1.439189e+00 -1.613740e+00   \n",
       "25%   -4.021740e-01 -1.136118e+00 -1.322221e+00 -6.934552e-01 -8.356154e-01   \n",
       "50%   -4.021740e-01 -4.580819e-01  1.605008e-01  5.227822e-02 -5.749034e-02   \n",
       "75%   -4.021740e-01  8.979896e-01  9.018615e-01  7.980117e-01  7.206347e-01   \n",
       "max    3.354893e+00  1.576025e+00  1.643222e+00  1.543745e+00  1.498760e+00   \n",
       "\n",
       "                 5             6             7             8             9   \\\n",
       "count  5.820000e+03  5.820000e+03  5.820000e+03  5.820000e+03  5.820000e+03   \n",
       "mean  -2.070890e-16  2.644849e-15 -8.257618e-16 -2.114384e-15  2.001606e-15   \n",
       "std    1.000086e+00  1.000086e+00  1.000086e+00  1.000086e+00  1.000086e+00   \n",
       "min   -1.738145e+00 -1.621254e+00 -1.646630e+00 -1.645501e+00 -1.615594e+00   \n",
       "25%   -9.403527e-01 -8.427308e-01 -8.646959e-01 -8.646760e-01 -8.337248e-01   \n",
       "50%   -1.425608e-01 -6.420806e-02 -8.276145e-02 -8.385143e-02 -5.185591e-02   \n",
       "75%    6.552312e-01  7.143147e-01  6.991730e-01  6.969731e-01  7.300129e-01   \n",
       "max    1.453023e+00  1.492837e+00  1.481107e+00  1.477798e+00  1.511882e+00   \n",
       "\n",
       "           ...                 21            22            23            24  \\\n",
       "count      ...       5.820000e+03  5.820000e+03  5.820000e+03  5.820000e+03   \n",
       "mean       ...      -2.832251e-15  1.454354e-16  3.596054e-15  3.714783e-15   \n",
       "std        ...       1.000086e+00  1.000086e+00  1.000086e+00  1.000086e+00   \n",
       "min        ...      -1.783194e+00 -1.790026e+00 -1.817034e+00 -1.827343e+00   \n",
       "25%        ...      -2.063210e-01 -2.235345e-01 -2.420638e-01 -2.503655e-01   \n",
       "50%        ...      -2.063210e-01 -2.235345e-01 -2.420638e-01 -2.503655e-01   \n",
       "75%        ...       5.821153e-01  5.597111e-01  5.454215e-01  5.381232e-01   \n",
       "max        ...       1.370552e+00  1.342957e+00  1.332907e+00  1.326612e+00   \n",
       "\n",
       "                 25            26            27            28            29  \\\n",
       "count  5.820000e+03  5.820000e+03  5.820000e+03  5.820000e+03  5.820000e+03   \n",
       "mean   1.333717e-15  1.432836e-15  1.561485e-15  2.261345e-15  7.546464e-16   \n",
       "std    1.000086e+00  1.000086e+00  1.000086e+00  1.000086e+00  1.000086e+00   \n",
       "min   -1.730392e+00 -1.698417e+00 -1.839472e+00 -1.748929e+00 -1.668120e+00   \n",
       "25%   -9.445255e-01 -9.145943e-01 -2.486068e-01 -9.618909e-01 -8.939823e-01   \n",
       "50%   -1.586587e-01 -1.307718e-01 -2.486068e-01 -1.748524e-01 -1.198450e-01   \n",
       "75%    6.272081e-01  6.530507e-01  5.468257e-01  6.121861e-01  6.542923e-01   \n",
       "max    1.413075e+00  1.436873e+00  1.342258e+00  1.399225e+00  1.428430e+00   \n",
       "\n",
       "                 30  \n",
       "count  5.820000e+03  \n",
       "mean  -1.237956e-15  \n",
       "std    1.000086e+00  \n",
       "min   -1.805160e+00  \n",
       "25%   -2.409479e-01  \n",
       "50%   -2.409479e-01  \n",
       "75%    5.411584e-01  \n",
       "max    1.323265e+00  \n",
       "\n",
       "[8 rows x 31 columns]"
      ]
     },
     "execution_count": 59,
     "metadata": {},
     "output_type": "execute_result"
    }
   ],
   "source": [
    "ndfs.describe()"
   ]
  },
  {
   "cell_type": "code",
   "execution_count": 60,
   "metadata": {
    "collapsed": true
   },
   "outputs": [],
   "source": [
    "nwcss = []"
   ]
  },
  {
   "cell_type": "code",
   "execution_count": 61,
   "metadata": {},
   "outputs": [
    {
     "data": {
      "image/png": "[encoded data removed]",
      "text/plain": [
       "<matplotlib.figure.Figure at 0x7f9145e6a710>"
      ]
     },
     "metadata": {},
     "output_type": "display_data"
    }
   ],
   "source": [
    "for i in range(1, 11):\n",
    "    kmeans = KMeans(n_clusters = i, init = 'k-means++', random_state = 42)\n",
    "    kmeans.fit(ndfs)\n",
    "    nwcss.append(kmeans.inertia_)\n",
    "plt.plot(range(1, 11), nwcss)\n",
    "plt.title('The Elbow Method')\n",
    "plt.xlabel('Number of clusters')\n",
    "plt.ylabel('WCSS')\n",
    "plt.show()"
   ]
  },
  {
   "cell_type": "code",
   "execution_count": 62,
   "metadata": {},
   "outputs": [
    {
     "data": {
      "text/plain": [
       "[180420.0,\n",
       " 93615.283505143962,\n",
       " 62439.287408512377,\n",
       " 54046.452313960297,\n",
       " 48928.403045678264,\n",
       " 46136.689350751105,\n",
       " 44441.364284883966,\n",
       " 43013.499254270217,\n",
       " 41441.832494822178,\n",
       " 40754.321103324524]"
      ]
     },
     "execution_count": 62,
     "metadata": {},
     "output_type": "execute_result"
    }
   ],
   "source": [
    "nwcss"
   ]
  },
  {
   "cell_type": "code",
   "execution_count": 63,
   "metadata": {
    "collapsed": true
   },
   "outputs": [],
   "source": [
    "#Best results so far have been obtained by dropping the instructor and class variables fom the data. \n",
    "# As seen in the elbow method, we can say that optimum number of clusters is 3."
   ]
  },
  {
   "cell_type": "code",
   "execution_count": 64,
   "metadata": {
    "collapsed": true
   },
   "outputs": [],
   "source": [
    "fkmeans = KMeans(n_clusters = 3, init = 'k-means++', random_state = 42)"
   ]
  },
  {
   "cell_type": "code",
   "execution_count": 65,
   "metadata": {},
   "outputs": [
    {
     "data": {
      "text/plain": [
       "KMeans(algorithm='auto', copy_x=True, init='k-means++', max_iter=300,\n",
       "    n_clusters=3, n_init=10, n_jobs=1, precompute_distances='auto',\n",
       "    random_state=42, tol=0.0001, verbose=0)"
      ]
     },
     "execution_count": 65,
     "metadata": {},
     "output_type": "execute_result"
    }
   ],
   "source": [
    "fkmeans.fit(ndfs)"
   ]
  },
  {
   "cell_type": "code",
   "execution_count": 66,
   "metadata": {},
   "outputs": [
    {
     "data": {
      "text/plain": [
       "62439.287408512377"
      ]
     },
     "execution_count": 66,
     "metadata": {},
     "output_type": "execute_result"
    }
   ],
   "source": [
    "fkmeans.inertia_"
   ]
  },
  {
   "cell_type": "code",
   "execution_count": 67,
   "metadata": {
    "collapsed": true
   },
   "outputs": [],
   "source": [
    "predictions = fkmeans.predict(ndfs)"
   ]
  },
  {
   "cell_type": "code",
   "execution_count": 68,
   "metadata": {},
   "outputs": [
    {
     "data": {
      "text/plain": [
       "(5820,)"
      ]
     },
     "execution_count": 68,
     "metadata": {},
     "output_type": "execute_result"
    }
   ],
   "source": [
    "predictions.shape"
   ]
  },
  {
   "cell_type": "code",
   "execution_count": 83,
   "metadata": {},
   "outputs": [
    {
     "data": {
      "text/plain": [
       "1    2360\n",
       "2    2232\n",
       "0    1228\n",
       "dtype: int64"
      ]
     },
     "execution_count": 83,
     "metadata": {},
     "output_type": "execute_result"
    }
   ],
   "source": [
    "predictions = pd.Series(predictions)\n",
    "predictions.value_counts()"
   ]
  },
  {
   "cell_type": "code",
   "execution_count": 86,
   "metadata": {},
   "outputs": [
    {
     "data": {
      "text/html": [
       "<div>\n",
       "<style>\n",
       "    .dataframe thead tr:only-child th {\n",
       "        text-align: right;\n",
       "    }\n",
       "\n",
       "    .dataframe thead th {\n",
       "        text-align: left;\n",
       "    }\n",
       "\n",
       "    .dataframe tbody tr th {\n",
       "        vertical-align: top;\n",
       "    }\n",
       "</style>\n",
       "<table border=\"1\" class=\"dataframe\">\n",
       "  <thead>\n",
       "    <tr style=\"text-align: right;\">\n",
       "      <th></th>\n",
       "      <th>Member Count</th>\n",
       "      <th>Cluster Label</th>\n",
       "    </tr>\n",
       "  </thead>\n",
       "  <tbody>\n",
       "    <tr>\n",
       "      <th>1</th>\n",
       "      <td>2360</td>\n",
       "      <td>1</td>\n",
       "    </tr>\n",
       "    <tr>\n",
       "      <th>2</th>\n",
       "      <td>2232</td>\n",
       "      <td>2</td>\n",
       "    </tr>\n",
       "    <tr>\n",
       "      <th>0</th>\n",
       "      <td>1228</td>\n",
       "      <td>0</td>\n",
       "    </tr>\n",
       "  </tbody>\n",
       "</table>\n",
       "</div>"
      ],
      "text/plain": [
       "   Member Count  Cluster Label\n",
       "1          2360              1\n",
       "2          2232              2\n",
       "0          1228              0"
      ]
     },
     "execution_count": 86,
     "metadata": {},
     "output_type": "execute_result"
    }
   ],
   "source": [
    "pdf = predictions.value_counts()\n",
    "pdf = pd.DataFrame(pdf,columns = ['Member Count'],index=None)\n",
    "pdf['Cluster Label'] = pdf.index\n",
    "pdf.head()"
   ]
  },
  {
   "cell_type": "code",
   "execution_count": 88,
   "metadata": {},
   "outputs": [
    {
     "data": {
      "text/plain": [
       "<matplotlib.text.Text at 0x7f913b1a6358>"
      ]
     },
     "execution_count": 88,
     "metadata": {},
     "output_type": "execute_result"
    },
    {
     "data": {
      "image/png": "[encoded data removed]",
      "text/plain": [
       "<matplotlib.figure.Figure at 0x7f913b1f0e10>"
      ]
     },
     "metadata": {},
     "output_type": "display_data"
    }
   ],
   "source": [
    "sns.barplot(x='Cluster Label',y='Member Count',data = pdf)\n",
    "plt.title('Member distribution among clusters')"
   ]
  },
  {
   "cell_type": "code",
   "execution_count": null,
   "metadata": {
    "collapsed": true
   },
   "outputs": [],
   "source": []
  }
 ],
 "metadata": {
  "kernelspec": {
   "display_name": "Python 3",
   "language": "python",
   "name": "python3"
  },
  "language_info": {
   "codemirror_mode": {
    "name": "ipython",
    "version": 3
   },
   "file_extension": ".py",
   "mimetype": "text/x-python",
   "name": "python",
   "nbconvert_exporter": "python",
   "pygments_lexer": "ipython3",
   "version": "3.6.1"
  }
 },
 "nbformat": 4,
 "nbformat_minor": 2
}
